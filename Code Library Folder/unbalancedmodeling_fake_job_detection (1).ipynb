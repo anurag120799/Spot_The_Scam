{
 "cells": [
  {
   "cell_type": "code",
   "execution_count": 1,
   "metadata": {},
   "outputs": [
    {
     "name": "stderr",
     "output_type": "stream",
     "text": [
      "[nltk_data] Downloading package stopwords to\n",
      "[nltk_data]     /Users/Blaven/nltk_data...\n",
      "[nltk_data]   Package stopwords is already up-to-date!\n",
      "[nltk_data] Downloading package punkt to /Users/Blaven/nltk_data...\n",
      "[nltk_data]   Package punkt is already up-to-date!\n",
      "[nltk_data] Downloading package wordnet to /Users/Blaven/nltk_data...\n",
      "[nltk_data]   Package wordnet is already up-to-date!\n",
      "[nltk_data] Downloading package omw-1.4 to /Users/Blaven/nltk_data...\n",
      "[nltk_data]   Package omw-1.4 is already up-to-date!\n"
     ]
    }
   ],
   "source": [
    "import os\n",
    "import requests\n",
    "import csv\n",
    "import pandas as pd\n",
    "import numpy as np\n",
    "import matplotlib.pyplot as plt\n",
    "import seaborn as sns\n",
    "\n",
    "\n",
    "import os\n",
    "import re\n",
    "import emoji\n",
    "\n",
    "from collections import Counter, defaultdict\n",
    "from nltk.corpus import stopwords\n",
    "from string import punctuation\n",
    "import nltk\n",
    "nltk.download('stopwords')\n",
    "sw = stopwords.words(\"english\")\n",
    "nltk.download('punkt')\n",
    "nltk.download('wordnet')\n",
    "nltk.download('omw-1.4')\n",
    "import string\n",
    "from nltk.tokenize import word_tokenize\n",
    "\n",
    "import matplotlib.pyplot as plt\n",
    "import seaborn as sns\n",
    "import html \n",
    "from sklearn.feature_extraction.text import TfidfVectorizer\n",
    "from sklearn.pipeline import make_pipeline, Pipeline\n",
    "from collections import Counter\n",
    "from sklearn.svm import SVC\n",
    "from sklearn.metrics import accuracy_score\n",
    "from sklearn.metrics import confusion_matrix\n",
    "from sklearn.metrics import classification_report\n",
    "from sklearn.metrics import plot_confusion_matrix\n",
    "from sklearn.model_selection import cross_val_score\n",
    "from sklearn.pipeline import Pipeline\n",
    "from sklearn.model_selection import GridSearchCV\n",
    "from sklearn.svm import LinearSVC\n",
    "from sklearn.dummy import DummyClassifier\n",
    "from sklearn.metrics import confusion_matrix, accuracy_score, plot_confusion_matrix, classification_report\n",
    "from sklearn.model_selection import train_test_split, cross_val_score\n",
    "\n",
    "import warnings\n",
    "warnings.filterwarnings('ignore')\n",
    "warnings.simplefilter(action='ignore', category=FutureWarning)"
   ]
  },
  {
   "cell_type": "markdown",
   "metadata": {},
   "source": [
    "## Data Loading "
   ]
  },
  {
   "cell_type": "code",
   "execution_count": 2,
   "metadata": {
    "scrolled": true
   },
   "outputs": [
    {
     "data": {
      "text/html": [
       "<div>\n",
       "<style scoped>\n",
       "    .dataframe tbody tr th:only-of-type {\n",
       "        vertical-align: middle;\n",
       "    }\n",
       "\n",
       "    .dataframe tbody tr th {\n",
       "        vertical-align: top;\n",
       "    }\n",
       "\n",
       "    .dataframe thead th {\n",
       "        text-align: right;\n",
       "    }\n",
       "</style>\n",
       "<table border=\"1\" class=\"dataframe\">\n",
       "  <thead>\n",
       "    <tr style=\"text-align: right;\">\n",
       "      <th></th>\n",
       "      <th>Unnamed: 0</th>\n",
       "      <th>text</th>\n",
       "      <th>fraudulent</th>\n",
       "      <th>clean_text</th>\n",
       "      <th>token</th>\n",
       "    </tr>\n",
       "  </thead>\n",
       "  <tbody>\n",
       "    <tr>\n",
       "      <th>0</th>\n",
       "      <td>0</td>\n",
       "      <td>Marketing Intern We're Food52, and we've creat...</td>\n",
       "      <td>0</td>\n",
       "      <td>market intern be food weve create groundbreaki...</td>\n",
       "      <td>['market', 'intern', 'be', 'food', 'weve', 'cr...</td>\n",
       "    </tr>\n",
       "    <tr>\n",
       "      <th>1</th>\n",
       "      <td>1</td>\n",
       "      <td>Customer Service - Cloud Video Production 90 S...</td>\n",
       "      <td>0</td>\n",
       "      <td>customer service cloud video production second...</td>\n",
       "      <td>['customer', 'service', 'cloud', 'video', 'pro...</td>\n",
       "    </tr>\n",
       "    <tr>\n",
       "      <th>2</th>\n",
       "      <td>2</td>\n",
       "      <td>Commissioning Machinery Assistant (CMA) Valor ...</td>\n",
       "      <td>0</td>\n",
       "      <td>commission machinery assistant cma valor servi...</td>\n",
       "      <td>['commission', 'machinery', 'assistant', 'cma'...</td>\n",
       "    </tr>\n",
       "    <tr>\n",
       "      <th>3</th>\n",
       "      <td>3</td>\n",
       "      <td>Account Executive - Washington DC Our passion ...</td>\n",
       "      <td>0</td>\n",
       "      <td>account executive washington dc passion improv...</td>\n",
       "      <td>['account', 'executive', 'washington', 'dc', '...</td>\n",
       "    </tr>\n",
       "    <tr>\n",
       "      <th>4</th>\n",
       "      <td>4</td>\n",
       "      <td>Bill Review Manager SpotSource Solutions LLC i...</td>\n",
       "      <td>0</td>\n",
       "      <td>bill review manager spotsource solutions llc g...</td>\n",
       "      <td>['bill', 'review', 'manager', 'spotsource', 's...</td>\n",
       "    </tr>\n",
       "  </tbody>\n",
       "</table>\n",
       "</div>"
      ],
      "text/plain": [
       "   Unnamed: 0                                               text  fraudulent  \\\n",
       "0           0  Marketing Intern We're Food52, and we've creat...           0   \n",
       "1           1  Customer Service - Cloud Video Production 90 S...           0   \n",
       "2           2  Commissioning Machinery Assistant (CMA) Valor ...           0   \n",
       "3           3  Account Executive - Washington DC Our passion ...           0   \n",
       "4           4  Bill Review Manager SpotSource Solutions LLC i...           0   \n",
       "\n",
       "                                          clean_text  \\\n",
       "0  market intern be food weve create groundbreaki...   \n",
       "1  customer service cloud video production second...   \n",
       "2  commission machinery assistant cma valor servi...   \n",
       "3  account executive washington dc passion improv...   \n",
       "4  bill review manager spotsource solutions llc g...   \n",
       "\n",
       "                                               token  \n",
       "0  ['market', 'intern', 'be', 'food', 'weve', 'cr...  \n",
       "1  ['customer', 'service', 'cloud', 'video', 'pro...  \n",
       "2  ['commission', 'machinery', 'assistant', 'cma'...  \n",
       "3  ['account', 'executive', 'washington', 'dc', '...  \n",
       "4  ['bill', 'review', 'manager', 'spotsource', 's...  "
      ]
     },
     "execution_count": 2,
     "metadata": {},
     "output_type": "execute_result"
    }
   ],
   "source": [
    "df_new = pd.read_csv(\"/Users/Blaven/Desktop/Capstone Git Storage/clean_df\")\n",
    "df_new.head(5)\n"
   ]
  },
  {
   "cell_type": "markdown",
   "metadata": {},
   "source": [
    "In this section we will be exploring our data by looking at the various aspects such as checking null values, duplicates, class imbalance, data types. "
   ]
  },
  {
   "cell_type": "markdown",
   "metadata": {},
   "source": [
    "## Modeling "
   ]
  },
  {
   "cell_type": "markdown",
   "metadata": {},
   "source": [
    "### Imbalanced  Data Set"
   ]
  },
  {
   "cell_type": "code",
   "execution_count": 3,
   "metadata": {},
   "outputs": [
    {
     "data": {
      "text/plain": [
       "pandas.core.frame.DataFrame"
      ]
     },
     "execution_count": 3,
     "metadata": {},
     "output_type": "execute_result"
    }
   ],
   "source": [
    "X=df_new.drop(['fraudulent','text', 'token','Unnamed: 0'], axis=1)\n",
    "y=df_new['fraudulent']\n",
    "\n",
    "type(X)"
   ]
  },
  {
   "cell_type": "code",
   "execution_count": 4,
   "metadata": {},
   "outputs": [
    {
     "data": {
      "text/plain": [
       "(17880, 1)"
      ]
     },
     "execution_count": 4,
     "metadata": {},
     "output_type": "execute_result"
    }
   ],
   "source": [
    "X.shape"
   ]
  },
  {
   "cell_type": "code",
   "execution_count": 5,
   "metadata": {},
   "outputs": [
    {
     "data": {
      "text/plain": [
       "(17880,)"
      ]
     },
     "execution_count": 5,
     "metadata": {},
     "output_type": "execute_result"
    }
   ],
   "source": [
    "y.shape"
   ]
  },
  {
   "cell_type": "markdown",
   "metadata": {},
   "source": [
    "## Featuree Engineering \n",
    "\n",
    "1) BoW\n",
    "\n",
    "2) TF-IDF"
   ]
  },
  {
   "cell_type": "code",
   "execution_count": 6,
   "metadata": {},
   "outputs": [
    {
     "data": {
      "text/plain": [
       "(17880, 18370)"
      ]
     },
     "execution_count": 6,
     "metadata": {},
     "output_type": "execute_result"
    }
   ],
   "source": [
    "from sklearn.feature_extraction.text import TfidfTransformer\n",
    "from sklearn.feature_extraction.text import CountVectorizer\n",
    "from sklearn.feature_extraction.text import TfidfVectorizer\n",
    "stopwords = set(nltk.corpus.stopwords.words('english'))\n",
    "\n",
    "\n",
    "\n",
    "tfidf_text_vectorizer = TfidfVectorizer(stop_words=stopwords, min_df=5, max_df=0.7)\n",
    "tfidf_text_vectors = tfidf_text_vectorizer.fit_transform(X[\"clean_text\"])\n",
    "tfidf_text_vectors.shape"
   ]
  },
  {
   "cell_type": "code",
   "execution_count": 7,
   "metadata": {},
   "outputs": [
    {
     "data": {
      "text/plain": [
       "(17880, 18370)"
      ]
     },
     "execution_count": 7,
     "metadata": {},
     "output_type": "execute_result"
    }
   ],
   "source": [
    "count_text_vectorizer = CountVectorizer(stop_words=stopwords, min_df=5, max_df=0.7)\n",
    "count_text_vectors = count_text_vectorizer.fit_transform(X['clean_text'])\n",
    "count_text_vectors.shape\n",
    "\n"
   ]
  },
  {
   "cell_type": "markdown",
   "metadata": {},
   "source": [
    "### Train-Test Split"
   ]
  },
  {
   "cell_type": "code",
   "execution_count": 8,
   "metadata": {},
   "outputs": [],
   "source": [
    "X_train_tf, X_test_tf, y_train_tf, y_test_tf = train_test_split(tfidf_text_vectors,y, test_size=0.20,random_state=0,stratify=y)\n",
    "\n",
    "\n",
    "\n",
    "X_train_bow, X_test_bow, y_train_bow, y_test_bow = train_test_split(count_text_vectors,y, test_size=0.20,random_state=0,stratify=y)"
   ]
  },
  {
   "cell_type": "code",
   "execution_count": 9,
   "metadata": {},
   "outputs": [
    {
     "data": {
      "text/plain": [
       "0    13611\n",
       "1      693\n",
       "Name: fraudulent, dtype: int64"
      ]
     },
     "execution_count": 9,
     "metadata": {},
     "output_type": "execute_result"
    }
   ],
   "source": [
    "y_train_tf.value_counts()"
   ]
  },
  {
   "cell_type": "code",
   "execution_count": 10,
   "metadata": {},
   "outputs": [
    {
     "data": {
      "text/plain": [
       "0    13611\n",
       "1      693\n",
       "Name: fraudulent, dtype: int64"
      ]
     },
     "execution_count": 10,
     "metadata": {},
     "output_type": "execute_result"
    }
   ],
   "source": [
    "y_train_bow.value_counts()"
   ]
  },
  {
   "cell_type": "markdown",
   "metadata": {},
   "source": [
    "# Modeling \n",
    "\n",
    "## Logistic Regression tfidf"
   ]
  },
  {
   "cell_type": "code",
   "execution_count": 11,
   "metadata": {},
   "outputs": [
    {
     "data": {
      "text/plain": [
       "LogisticRegression(C=3, random_state=42, solver='liblinear')"
      ]
     },
     "execution_count": 11,
     "metadata": {},
     "output_type": "execute_result"
    }
   ],
   "source": [
    "from sklearn.linear_model import LogisticRegression\n",
    "logreg = LogisticRegression(C= 3,solver= 'liblinear',random_state = 42)\n",
    "logreg.fit(X_train_tf, y_train_tf)\n"
   ]
  },
  {
   "cell_type": "code",
   "execution_count": 12,
   "metadata": {},
   "outputs": [
    {
     "name": "stdout",
     "output_type": "stream",
     "text": [
      "              precision    recall  f1-score   support\n",
      "\n",
      "           0       0.98      1.00      0.99      3403\n",
      "           1       0.95      0.57      0.71       173\n",
      "\n",
      "    accuracy                           0.98      3576\n",
      "   macro avg       0.96      0.78      0.85      3576\n",
      "weighted avg       0.98      0.98      0.97      3576\n",
      "\n"
     ]
    },
    {
     "data": {
      "image/png": "[encoded data removed]",
      "text/plain": [
       "<Figure size 432x288 with 2 Axes>"
      ]
     },
     "metadata": {
      "needs_background": "light"
     },
     "output_type": "display_data"
    }
   ],
   "source": [
    "from sklearn.metrics import accuracy_score, classification_report\n",
    "\n",
    "from sklearn.metrics import confusion_matrix, ConfusionMatrixDisplay\n",
    "\n",
    "\n",
    "\n",
    "lr_predict = logreg.predict(X_test_tf)\n",
    "\n",
    "print(classification_report(y_test_tf, lr_predict))\n",
    "\n",
    "\n",
    "cm_lr =confusion_matrix(y_test_tf, lr_predict)\n",
    "disp=ConfusionMatrixDisplay(confusion_matrix=cm_lr)\n",
    "disp.plot()\n",
    "plt.show()\n",
    "\n"
   ]
  },
  {
   "cell_type": "code",
   "execution_count": 13,
   "metadata": {},
   "outputs": [
    {
     "name": "stdout",
     "output_type": "stream",
     "text": [
      "Accuracy 0.9776286353467561\n",
      "F1 Score 0.7101449275362318\n",
      "Precision 0.9514563106796117\n",
      "Recall 0.5664739884393064\n"
     ]
    }
   ],
   "source": [
    "from sklearn.metrics import precision_score, recall_score, f1_score, accuracy_score\n",
    "\n",
    "print(\"Accuracy\", accuracy_score(y_test_tf, lr_predict))\n",
    "\n",
    "\n",
    "print(\"F1 Score\", f1_score(y_test_tf, lr_predict))\n",
    "print(\"Precision\", precision_score(y_test_tf, lr_predict))\n",
    "print(\"Recall\", recall_score(y_test_tf, lr_predict))\n",
    "\n"
   ]
  },
  {
   "cell_type": "markdown",
   "metadata": {},
   "source": [
    "## Logistic Regression Bow"
   ]
  },
  {
   "cell_type": "code",
   "execution_count": 14,
   "metadata": {},
   "outputs": [
    {
     "data": {
      "text/plain": [
       "LogisticRegression(C=3, random_state=42, solver='liblinear')"
      ]
     },
     "execution_count": 14,
     "metadata": {},
     "output_type": "execute_result"
    }
   ],
   "source": [
    "from sklearn.linear_model import LogisticRegression\n",
    "logreg = LogisticRegression(C= 3,solver= 'liblinear',random_state = 42)\n",
    "logreg.fit(X_train_bow, y_train_bow)\n",
    "\n"
   ]
  },
  {
   "cell_type": "code",
   "execution_count": 15,
   "metadata": {},
   "outputs": [
    {
     "name": "stdout",
     "output_type": "stream",
     "text": [
      "              precision    recall  f1-score   support\n",
      "\n",
      "           0       0.99      0.99      0.99      3403\n",
      "           1       0.85      0.75      0.80       173\n",
      "\n",
      "    accuracy                           0.98      3576\n",
      "   macro avg       0.92      0.87      0.89      3576\n",
      "weighted avg       0.98      0.98      0.98      3576\n",
      "\n"
     ]
    },
    {
     "data": {
      "image/png": "[encoded data removed]",
      "text/plain": [
       "<Figure size 432x288 with 2 Axes>"
      ]
     },
     "metadata": {
      "needs_background": "light"
     },
     "output_type": "display_data"
    }
   ],
   "source": [
    "lr_predict = logreg.predict(X_test_bow)\n",
    "\n",
    "print(classification_report(y_test_bow, lr_predict))\n",
    "\n",
    "\n",
    "cm_lr =confusion_matrix(y_test_bow, lr_predict)\n",
    "disp=ConfusionMatrixDisplay(confusion_matrix=cm_lr)\n",
    "disp.plot()\n",
    "plt.show()\n",
    "\n"
   ]
  },
  {
   "cell_type": "code",
   "execution_count": 16,
   "metadata": {},
   "outputs": [
    {
     "name": "stdout",
     "output_type": "stream",
     "text": [
      "Accuracy 0.9815436241610739\n",
      "F1 Score 0.7975460122699387\n",
      "Precision 0.8496732026143791\n",
      "Recall 0.7514450867052023\n"
     ]
    }
   ],
   "source": [
    "print(\"Accuracy\", accuracy_score(y_test_bow, lr_predict))\n",
    "\n",
    "\n",
    "print(\"F1 Score\", f1_score(y_test_bow, lr_predict))\n",
    "print(\"Precision\", precision_score(y_test_bow, lr_predict))\n",
    "print(\"Recall\", recall_score(y_test_bow, lr_predict))\n",
    "\n"
   ]
  },
  {
   "cell_type": "markdown",
   "metadata": {},
   "source": [
    "## Random Forest tf-idf"
   ]
  },
  {
   "cell_type": "code",
   "execution_count": 17,
   "metadata": {},
   "outputs": [
    {
     "data": {
      "text/plain": [
       "RandomForestClassifier(max_depth=300, n_estimators=300, random_state=2)"
      ]
     },
     "execution_count": 17,
     "metadata": {},
     "output_type": "execute_result"
    }
   ],
   "source": [
    "from sklearn.ensemble import RandomForestClassifier\n",
    "\n",
    "rf = RandomForestClassifier(n_estimators = 300,max_depth = 300, random_state = 2)\n",
    "rf.fit(X_train_tf, y_train_tf)\n"
   ]
  },
  {
   "cell_type": "code",
   "execution_count": 18,
   "metadata": {},
   "outputs": [
    {
     "name": "stdout",
     "output_type": "stream",
     "text": [
      "              precision    recall  f1-score   support\n",
      "\n",
      "           0       0.98      1.00      0.99      3403\n",
      "           1       0.98      0.69      0.81       173\n",
      "\n",
      "    accuracy                           0.98      3576\n",
      "   macro avg       0.98      0.84      0.90      3576\n",
      "weighted avg       0.98      0.98      0.98      3576\n",
      "\n"
     ]
    },
    {
     "data": {
      "image/png": "[encoded data removed]",
      "text/plain": [
       "<Figure size 432x288 with 2 Axes>"
      ]
     },
     "metadata": {
      "needs_background": "light"
     },
     "output_type": "display_data"
    }
   ],
   "source": [
    "\n",
    "rf_predict = rf.predict(X_test_tf)\n",
    "\n",
    "print(classification_report(y_test_tf, rf_predict))\n",
    "\n",
    "cm_rf =confusion_matrix(y_test_tf, rf_predict)\n",
    "disp=ConfusionMatrixDisplay(confusion_matrix=cm_rf)\n",
    "disp.plot()\n",
    "plt.show()\n",
    "\n",
    "\n"
   ]
  },
  {
   "cell_type": "code",
   "execution_count": 19,
   "metadata": {},
   "outputs": [
    {
     "name": "stdout",
     "output_type": "stream",
     "text": [
      "Accuracy 0.9843400447427293\n",
      "F1 Score 0.8095238095238095\n",
      "Precision 0.9834710743801653\n",
      "Recall 0.6878612716763006\n"
     ]
    }
   ],
   "source": [
    "\n",
    "print(\"Accuracy\", accuracy_score(y_test_tf, rf_predict))\n",
    "\n",
    "\n",
    "print(\"F1 Score\", f1_score(y_test_tf, rf_predict))\n",
    "print(\"Precision\", precision_score(y_test_tf, rf_predict))\n",
    "print(\"Recall\", recall_score(y_test_tf, rf_predict))\n",
    "\n",
    "\n"
   ]
  },
  {
   "cell_type": "markdown",
   "metadata": {},
   "source": [
    "## Random Forest BoW"
   ]
  },
  {
   "cell_type": "code",
   "execution_count": 20,
   "metadata": {},
   "outputs": [
    {
     "data": {
      "text/plain": [
       "RandomForestClassifier(max_depth=300, n_estimators=300, random_state=2)"
      ]
     },
     "execution_count": 20,
     "metadata": {},
     "output_type": "execute_result"
    }
   ],
   "source": [
    "rf = RandomForestClassifier(n_estimators = 300,max_depth = 300, random_state = 2)\n",
    "rf.fit(X_train_bow, y_train_bow)"
   ]
  },
  {
   "cell_type": "code",
   "execution_count": 21,
   "metadata": {},
   "outputs": [
    {
     "name": "stdout",
     "output_type": "stream",
     "text": [
      "              precision    recall  f1-score   support\n",
      "\n",
      "           0       0.98      1.00      0.99      3403\n",
      "           1       0.98      0.68      0.80       173\n",
      "\n",
      "    accuracy                           0.98      3576\n",
      "   macro avg       0.98      0.84      0.90      3576\n",
      "weighted avg       0.98      0.98      0.98      3576\n",
      "\n"
     ]
    },
    {
     "data": {
      "image/png": "[encoded data removed]",
      "text/plain": [
       "<Figure size 432x288 with 2 Axes>"
      ]
     },
     "metadata": {
      "needs_background": "light"
     },
     "output_type": "display_data"
    }
   ],
   "source": [
    "\n",
    "rf_predict = rf.predict(X_test_bow)\n",
    "\n",
    "print(classification_report(y_test_bow, rf_predict))\n",
    "\n",
    "cm_rf =confusion_matrix(y_test_bow, rf_predict)\n",
    "disp=ConfusionMatrixDisplay(confusion_matrix=cm_rf)\n",
    "disp.plot()\n",
    "plt.show()\n",
    "\n",
    "\n",
    "\n"
   ]
  },
  {
   "cell_type": "code",
   "execution_count": 22,
   "metadata": {},
   "outputs": [
    {
     "name": "stdout",
     "output_type": "stream",
     "text": [
      "Accuracy 0.9837807606263982\n",
      "F1 Score 0.8027210884353743\n",
      "Precision 0.9752066115702479\n",
      "Recall 0.6820809248554913\n"
     ]
    }
   ],
   "source": [
    "print(\"Accuracy\", accuracy_score(y_test_bow, rf_predict))\n",
    "\n",
    "\n",
    "print(\"F1 Score\", f1_score(y_test_bow, rf_predict))\n",
    "print(\"Precision\", precision_score(y_test_bow, rf_predict))\n",
    "print(\"Recall\", recall_score(y_test_bow, rf_predict))\n",
    "\n",
    "\n",
    "\n"
   ]
  },
  {
   "cell_type": "markdown",
   "metadata": {},
   "source": [
    "## Naive Bayes tf-idf"
   ]
  },
  {
   "cell_type": "code",
   "execution_count": 23,
   "metadata": {},
   "outputs": [
    {
     "data": {
      "text/plain": [
       "MultinomialNB()"
      ]
     },
     "execution_count": 23,
     "metadata": {},
     "output_type": "execute_result"
    }
   ],
   "source": [
    "from sklearn.naive_bayes import MultinomialNB\n",
    "from sklearn.metrics import f1_score\n",
    "\n",
    "NB = MultinomialNB()\n",
    "NB.fit(X_train_tf, y_train_tf)\n"
   ]
  },
  {
   "cell_type": "code",
   "execution_count": 24,
   "metadata": {},
   "outputs": [
    {
     "name": "stdout",
     "output_type": "stream",
     "text": [
      "              precision    recall  f1-score   support\n",
      "\n",
      "           0       0.96      1.00      0.98      3403\n",
      "           1       0.69      0.13      0.21       173\n",
      "\n",
      "    accuracy                           0.95      3576\n",
      "   macro avg       0.82      0.56      0.60      3576\n",
      "weighted avg       0.94      0.95      0.94      3576\n",
      "\n"
     ]
    },
    {
     "data": {
      "image/png": "[encoded data removed]",
      "text/plain": [
       "<Figure size 432x288 with 2 Axes>"
      ]
     },
     "metadata": {
      "needs_background": "light"
     },
     "output_type": "display_data"
    }
   ],
   "source": [
    "\n",
    "nb_predict = NB.predict(X_test_tf)\n",
    "\n",
    "print(classification_report(y_test_tf, nb_predict))\n",
    "\n",
    "cm_nb =confusion_matrix(y_test_tf, nb_predict)\n",
    "disp=ConfusionMatrixDisplay(confusion_matrix=cm_nb)\n",
    "disp.plot()\n",
    "plt.show()\n",
    "\n",
    "\n",
    "\n"
   ]
  },
  {
   "cell_type": "code",
   "execution_count": 25,
   "metadata": {},
   "outputs": [
    {
     "name": "stdout",
     "output_type": "stream",
     "text": [
      "Accuracy 0.9549776286353467\n",
      "F1 Score 0.21463414634146338\n",
      "Precision 0.6875\n",
      "Recall 0.12716763005780346\n"
     ]
    }
   ],
   "source": [
    "\n",
    "print(\"Accuracy\", accuracy_score(y_test_tf, nb_predict))\n",
    "\n",
    "\n",
    "print(\"F1 Score\", f1_score(y_test_tf, nb_predict))\n",
    "print(\"Precision\", precision_score(y_test_tf, nb_predict))\n",
    "print(\"Recall\", recall_score(y_test_tf, nb_predict))\n",
    "\n",
    "\n",
    "\n"
   ]
  },
  {
   "cell_type": "code",
   "execution_count": 26,
   "metadata": {},
   "outputs": [
    {
     "data": {
      "image/png": "[encoded data removed]",
      "text/plain": [
       "<Figure size 432x288 with 2 Axes>"
      ]
     },
     "metadata": {
      "needs_background": "light"
     },
     "output_type": "display_data"
    }
   ],
   "source": [
    "\n",
    "cm_nb =confusion_matrix(y_test_tf, nb_predict)\n",
    "disp=ConfusionMatrixDisplay(confusion_matrix=cm_nb)\n",
    "disp.plot()\n",
    "plt.show()"
   ]
  },
  {
   "cell_type": "markdown",
   "metadata": {},
   "source": [
    "## Naive Bayes BoW"
   ]
  },
  {
   "cell_type": "code",
   "execution_count": 27,
   "metadata": {},
   "outputs": [
    {
     "data": {
      "text/plain": [
       "MultinomialNB()"
      ]
     },
     "execution_count": 27,
     "metadata": {},
     "output_type": "execute_result"
    }
   ],
   "source": [
    "NB = MultinomialNB()\n",
    "NB.fit(X_train_bow, y_train_bow)"
   ]
  },
  {
   "cell_type": "code",
   "execution_count": 28,
   "metadata": {},
   "outputs": [
    {
     "name": "stdout",
     "output_type": "stream",
     "text": [
      "              precision    recall  f1-score   support\n",
      "\n",
      "           0       0.99      0.95      0.97      3403\n",
      "           1       0.44      0.79      0.57       173\n",
      "\n",
      "    accuracy                           0.94      3576\n",
      "   macro avg       0.71      0.87      0.77      3576\n",
      "weighted avg       0.96      0.94      0.95      3576\n",
      "\n"
     ]
    },
    {
     "data": {
      "image/png": "[encoded data removed]",
      "text/plain": [
       "<Figure size 432x288 with 2 Axes>"
      ]
     },
     "metadata": {
      "needs_background": "light"
     },
     "output_type": "display_data"
    }
   ],
   "source": [
    "\n",
    "nb_predict = NB.predict(X_test_bow)\n",
    "\n",
    "print(classification_report(y_test_bow, nb_predict))\n",
    "\n",
    "cm_nb =confusion_matrix(y_test_bow, nb_predict)\n",
    "disp=ConfusionMatrixDisplay(confusion_matrix=cm_nb)\n",
    "disp.plot()\n",
    "plt.show()\n",
    "\n",
    "\n",
    "\n",
    "\n"
   ]
  },
  {
   "cell_type": "code",
   "execution_count": 29,
   "metadata": {},
   "outputs": [
    {
     "name": "stdout",
     "output_type": "stream",
     "text": [
      "Accuracy 0.9412751677852349\n",
      "F1 Score 0.5661157024793388\n",
      "Precision 0.4405144694533762\n",
      "Recall 0.791907514450867\n"
     ]
    }
   ],
   "source": [
    "\n",
    "print(\"Accuracy\", accuracy_score(y_test_bow, nb_predict))\n",
    "\n",
    "\n",
    "print(\"F1 Score\", f1_score(y_test_bow, nb_predict))\n",
    "print(\"Precision\", precision_score(y_test_bow, nb_predict))\n",
    "print(\"Recall\", recall_score(y_test_bow, nb_predict))\n",
    "\n",
    "\n",
    "\n",
    "\n"
   ]
  },
  {
   "cell_type": "markdown",
   "metadata": {},
   "source": [
    "## Multi Layer Perceptron tf-idf"
   ]
  },
  {
   "cell_type": "code",
   "execution_count": 30,
   "metadata": {},
   "outputs": [
    {
     "data": {
      "text/plain": [
       "MLPClassifier(hidden_layer_sizes=(100, 50, 2), max_iter=2000, random_state=5)"
      ]
     },
     "execution_count": 30,
     "metadata": {},
     "output_type": "execute_result"
    }
   ],
   "source": [
    "from sklearn.neural_network import MLPClassifier\n",
    "mlp = MLPClassifier(solver='adam', \n",
    "                    activation = 'relu',\n",
    "                   hidden_layer_sizes = (100,50,2), \n",
    "                    random_state=5,\n",
    "                    max_iter = 1000)  \n",
    "mlp.fit(X_train_tf,y_train_tf)\n"
   ]
  },
  {
   "cell_type": "code",
   "execution_count": 31,
   "metadata": {},
   "outputs": [
    {
     "name": "stdout",
     "output_type": "stream",
     "text": [
      "              precision    recall  f1-score   support\n",
      "\n",
      "           0       0.99      0.99      0.99      3403\n",
      "           1       0.86      0.79      0.83       173\n",
      "\n",
      "    accuracy                           0.98      3576\n",
      "   macro avg       0.93      0.89      0.91      3576\n",
      "weighted avg       0.98      0.98      0.98      3576\n",
      "\n"
     ]
    },
    {
     "data": {
      "image/png": "[encoded data removed]",
      "text/plain": [
       "<Figure size 432x288 with 2 Axes>"
      ]
     },
     "metadata": {
      "needs_background": "light"
     },
     "output_type": "display_data"
    }
   ],
   "source": [
    "mlp_predict = mlp.predict(X_test_tf)\n",
    "\n",
    "print(classification_report(y_test_tf, mlp_predict))\n",
    "\n",
    "cm_mlp =confusion_matrix(y_test_tf, mlp_predict)\n",
    "disp=ConfusionMatrixDisplay(confusion_matrix=cm_mlp)\n",
    "disp.plot()\n",
    "plt.show()\n",
    "\n",
    "\n",
    "\n"
   ]
  },
  {
   "cell_type": "code",
   "execution_count": 32,
   "metadata": {},
   "outputs": [
    {
     "name": "stdout",
     "output_type": "stream",
     "text": [
      "Accuracy 0.9837807606263982\n",
      "F1 Score 0.8253012048192772\n",
      "Precision 0.8616352201257862\n",
      "Recall 0.791907514450867\n"
     ]
    }
   ],
   "source": [
    "\n",
    "print(\"Accuracy\", accuracy_score(y_test_tf, mlp_predict))\n",
    "\n",
    "\n",
    "print(\"F1 Score\", f1_score(y_test_tf, mlp_predict))\n",
    "print(\"Precision\", precision_score(y_test_tf, mlp_predict))\n",
    "print(\"Recall\", recall_score(y_test_tf, mlp_predict))\n",
    "\n",
    "\n",
    "\n",
    "\n"
   ]
  },
  {
   "cell_type": "markdown",
   "metadata": {},
   "source": [
    "## Multi Layer Perceptron BoW\n"
   ]
  },
  {
   "cell_type": "code",
   "execution_count": 33,
   "metadata": {},
   "outputs": [
    {
     "data": {
      "text/plain": [
       "MLPClassifier(hidden_layer_sizes=(100, 50, 30), max_iter=1000)"
      ]
     },
     "execution_count": 33,
     "metadata": {},
     "output_type": "execute_result"
    }
   ],
   "source": [
    "from sklearn.neural_network import MLPClassifier\n",
    "mlp = MLPClassifier(solver='adam', \n",
    "                    activation = 'relu',\n",
    "                   hidden_layer_sizes = (100,50,30), \n",
    "                    max_iter = 1000) \n",
    "mlp.fit(X_train_bow,y_train_bow)\n",
    "\n"
   ]
  },
  {
   "cell_type": "code",
   "execution_count": 34,
   "metadata": {},
   "outputs": [
    {
     "name": "stdout",
     "output_type": "stream",
     "text": [
      "              precision    recall  f1-score   support\n",
      "\n",
      "           0       0.99      0.99      0.99      3403\n",
      "           1       0.84      0.79      0.81       173\n",
      "\n",
      "    accuracy                           0.98      3576\n",
      "   macro avg       0.92      0.89      0.90      3576\n",
      "weighted avg       0.98      0.98      0.98      3576\n",
      "\n"
     ]
    },
    {
     "data": {
      "image/png": "[encoded data removed]",
      "text/plain": [
       "<Figure size 432x288 with 2 Axes>"
      ]
     },
     "metadata": {
      "needs_background": "light"
     },
     "output_type": "display_data"
    }
   ],
   "source": [
    "mlp_predict = mlp.predict(X_test_bow)\n",
    "\n",
    "print(classification_report(y_test_bow, mlp_predict))\n",
    "\n",
    "cm_mlp =confusion_matrix(y_test_bow, mlp_predict)\n",
    "disp=ConfusionMatrixDisplay(confusion_matrix=cm_mlp)\n",
    "disp.plot()\n",
    "plt.show()\n",
    "\n",
    "\n"
   ]
  },
  {
   "cell_type": "code",
   "execution_count": 35,
   "metadata": {},
   "outputs": [
    {
     "name": "stdout",
     "output_type": "stream",
     "text": [
      "Accuracy 0.982662192393736\n",
      "F1 Score 0.8143712574850299\n",
      "Precision 0.84472049689441\n",
      "Recall 0.7861271676300579\n"
     ]
    }
   ],
   "source": [
    "\n",
    "print(\"Accuracy\", accuracy_score(y_test_bow, mlp_predict))\n",
    "\n",
    "\n",
    "print(\"F1 Score\", f1_score(y_test_bow, mlp_predict))\n",
    "print(\"Precision\", precision_score(y_test_bow, mlp_predict))\n",
    "print(\"Recall\", recall_score(y_test_bow, mlp_predict))\n",
    "\n",
    "\n",
    "\n",
    "\n",
    "\n"
   ]
  },
  {
   "cell_type": "markdown",
   "metadata": {},
   "source": [
    "## KNN tf-idf"
   ]
  },
  {
   "cell_type": "code",
   "execution_count": 36,
   "metadata": {},
   "outputs": [
    {
     "data": {
      "text/plain": [
       "Text(0.5, 1.0, 'Elbow curve')"
      ]
     },
     "execution_count": 36,
     "metadata": {},
     "output_type": "execute_result"
    },
    {
     "data": {
      "image/png": "[encoded data removed]",
      "text/plain": [
       "<Figure size 1080x360 with 1 Axes>"
      ]
     },
     "metadata": {
      "needs_background": "light"
     },
     "output_type": "display_data"
    }
   ],
   "source": [
    "\n",
    "from sklearn.cluster import KMeans\n",
    "from matplotlib import pyplot as plt\n",
    "\n",
    "X = X_train_tf\n",
    "distorsions = []\n",
    "for k in range(2, 10):\n",
    "    kmeans = KMeans(n_clusters=k)\n",
    "    kmeans.fit(X)\n",
    "    distorsions.append(kmeans.inertia_)\n",
    "\n",
    "fig = plt.figure(figsize=(15, 5))\n",
    "plt.plot(range(2, 10), distorsions)\n",
    "plt.grid(True)\n",
    "plt.title('Elbow curve')"
   ]
  },
  {
   "cell_type": "code",
   "execution_count": 37,
   "metadata": {},
   "outputs": [
    {
     "data": {
      "text/plain": [
       "KNeighborsClassifier(n_neighbors=6)"
      ]
     },
     "execution_count": 37,
     "metadata": {},
     "output_type": "execute_result"
    }
   ],
   "source": [
    "from sklearn.neighbors import KNeighborsClassifier\n",
    "\n",
    "knn = KNeighborsClassifier(n_neighbors=6,weights = 'uniform')\n",
    "\n",
    "knn.fit(X_train_tf,y_train_tf)\n",
    "\n"
   ]
  },
  {
   "cell_type": "code",
   "execution_count": 38,
   "metadata": {},
   "outputs": [
    {
     "name": "stdout",
     "output_type": "stream",
     "text": [
      "              precision    recall  f1-score   support\n",
      "\n",
      "           0       0.98      1.00      0.99      3403\n",
      "           1       0.89      0.65      0.75       173\n",
      "\n",
      "    accuracy                           0.98      3576\n",
      "   macro avg       0.94      0.82      0.87      3576\n",
      "weighted avg       0.98      0.98      0.98      3576\n",
      "\n"
     ]
    },
    {
     "data": {
      "image/png": "[encoded data removed]",
      "text/plain": [
       "<Figure size 432x288 with 2 Axes>"
      ]
     },
     "metadata": {
      "needs_background": "light"
     },
     "output_type": "display_data"
    }
   ],
   "source": [
    "\n",
    "knn_predict = knn.predict(X_test_tf)\n",
    "\n",
    "print(classification_report(y_test_tf, knn_predict))\n",
    "\n",
    "\n",
    "cm_knn =confusion_matrix(y_test_tf, knn_predict)\n",
    "disp=ConfusionMatrixDisplay(confusion_matrix=cm_knn)\n",
    "disp.plot()\n",
    "plt.show()\n",
    "\n"
   ]
  },
  {
   "cell_type": "code",
   "execution_count": 39,
   "metadata": {},
   "outputs": [
    {
     "name": "stdout",
     "output_type": "stream",
     "text": [
      "Accuracy 0.9790268456375839\n",
      "F1 Score 0.7491638795986622\n",
      "Precision 0.8888888888888888\n",
      "Recall 0.6473988439306358\n"
     ]
    }
   ],
   "source": [
    "\n",
    "print(\"Accuracy\", accuracy_score(y_test_tf, knn_predict))\n",
    "\n",
    "\n",
    "print(\"F1 Score\", f1_score(y_test_tf, knn_predict))\n",
    "print(\"Precision\", precision_score(y_test_tf, knn_predict))\n",
    "print(\"Recall\", recall_score(y_test_tf, knn_predict))\n",
    "\n",
    "\n",
    "\n",
    "\n",
    "\n",
    "\n"
   ]
  },
  {
   "cell_type": "markdown",
   "metadata": {},
   "source": [
    "## KNN BoW"
   ]
  },
  {
   "cell_type": "code",
   "execution_count": 40,
   "metadata": {},
   "outputs": [
    {
     "data": {
      "text/plain": [
       "KNeighborsClassifier(n_neighbors=6)"
      ]
     },
     "execution_count": 40,
     "metadata": {},
     "output_type": "execute_result"
    }
   ],
   "source": [
    "knn = KNeighborsClassifier(n_neighbors=6,weights = 'uniform')\n",
    "\n",
    "knn.fit(X_train_bow,y_train_bow)\n",
    "\n"
   ]
  },
  {
   "cell_type": "code",
   "execution_count": 41,
   "metadata": {},
   "outputs": [
    {
     "name": "stdout",
     "output_type": "stream",
     "text": [
      "              precision    recall  f1-score   support\n",
      "\n",
      "           0       0.98      0.96      0.97      3403\n",
      "           1       0.47      0.65      0.55       173\n",
      "\n",
      "    accuracy                           0.95      3576\n",
      "   macro avg       0.73      0.81      0.76      3576\n",
      "weighted avg       0.96      0.95      0.95      3576\n",
      "\n"
     ]
    },
    {
     "data": {
      "image/png": "[encoded data removed]",
      "text/plain": [
       "<Figure size 432x288 with 2 Axes>"
      ]
     },
     "metadata": {
      "needs_background": "light"
     },
     "output_type": "display_data"
    }
   ],
   "source": [
    "\n",
    "knn_predict = knn.predict(X_test_bow)\n",
    "\n",
    "print(classification_report(y_test_bow, knn_predict))\n",
    "\n",
    "\n",
    "cm_knn =confusion_matrix(y_test_bow, knn_predict)\n",
    "disp=ConfusionMatrixDisplay(confusion_matrix=cm_knn)\n",
    "disp.plot()\n",
    "plt.show()\n",
    "\n",
    "\n"
   ]
  },
  {
   "cell_type": "code",
   "execution_count": 42,
   "metadata": {},
   "outputs": [
    {
     "name": "stdout",
     "output_type": "stream",
     "text": [
      "Accuracy 0.9482662192393736\n",
      "F1 Score 0.547677261613692\n",
      "Precision 0.4745762711864407\n",
      "Recall 0.6473988439306358\n"
     ]
    }
   ],
   "source": [
    "\n",
    "print(\"Accuracy\", accuracy_score(y_test_bow, knn_predict))\n",
    "\n",
    "\n",
    "print(\"F1 Score\", f1_score(y_test_bow, knn_predict))\n",
    "print(\"Precision\", precision_score(y_test_bow, knn_predict))\n",
    "print(\"Recall\", recall_score(y_test_bow, knn_predict))\n",
    "\n",
    "\n",
    "\n",
    "\n",
    "\n",
    "\n",
    "\n"
   ]
  },
  {
   "cell_type": "markdown",
   "metadata": {},
   "source": [
    "## Support Vector Machine tf-idf"
   ]
  },
  {
   "cell_type": "code",
   "execution_count": 43,
   "metadata": {},
   "outputs": [
    {
     "data": {
      "text/plain": [
       "SVC(C=2.0, gamma='auto', kernel='linear', probability=True)"
      ]
     },
     "execution_count": 43,
     "metadata": {},
     "output_type": "execute_result"
    }
   ],
   "source": [
    "from sklearn.svm import SVC\n",
    "\n",
    "svc = SVC(C= 2.0, kernel = 'linear',gamma = 'auto' ,probability=True )\n",
    "\n",
    "svc.fit(X_train_tf, y_train_tf)\n"
   ]
  },
  {
   "cell_type": "code",
   "execution_count": 44,
   "metadata": {},
   "outputs": [
    {
     "name": "stdout",
     "output_type": "stream",
     "text": [
      "              precision    recall  f1-score   support\n",
      "\n",
      "           0       0.99      1.00      0.99      3403\n",
      "           1       0.94      0.73      0.82       173\n",
      "\n",
      "    accuracy                           0.98      3576\n",
      "   macro avg       0.96      0.87      0.91      3576\n",
      "weighted avg       0.98      0.98      0.98      3576\n",
      "\n"
     ]
    },
    {
     "data": {
      "image/png": "[encoded data removed]",
      "text/plain": [
       "<Figure size 432x288 with 2 Axes>"
      ]
     },
     "metadata": {
      "needs_background": "light"
     },
     "output_type": "display_data"
    }
   ],
   "source": [
    "\n",
    "svm_predict = svc.predict(X_test_tf)\n",
    "\n",
    "print(classification_report(y_test_tf, svm_predict))\n",
    "\n",
    "cm_svm =confusion_matrix(y_test_tf, svm_predict)\n",
    "disp=ConfusionMatrixDisplay(confusion_matrix=cm_svm)\n",
    "disp.plot()\n",
    "plt.show()\n",
    "\n"
   ]
  },
  {
   "cell_type": "code",
   "execution_count": 45,
   "metadata": {},
   "outputs": [
    {
     "name": "stdout",
     "output_type": "stream",
     "text": [
      "Accuracy 0.9848993288590604\n",
      "F1 Score 0.8246753246753246\n",
      "Precision 0.9407407407407408\n",
      "Recall 0.7341040462427746\n"
     ]
    }
   ],
   "source": [
    "\n",
    "print(\"Accuracy\", accuracy_score(y_test_tf, svm_predict))\n",
    "\n",
    "\n",
    "print(\"F1 Score\", f1_score(y_test_tf, svm_predict))\n",
    "print(\"Precision\", precision_score(y_test_tf, svm_predict))\n",
    "print(\"Recall\", recall_score(y_test_tf, svm_predict))\n",
    "\n",
    "\n"
   ]
  },
  {
   "cell_type": "markdown",
   "metadata": {},
   "source": [
    "## SVM BoW"
   ]
  },
  {
   "cell_type": "code",
   "execution_count": 46,
   "metadata": {},
   "outputs": [
    {
     "data": {
      "text/plain": [
       "SVC(C=2.0, gamma='auto', kernel='linear', probability=True)"
      ]
     },
     "execution_count": 46,
     "metadata": {},
     "output_type": "execute_result"
    }
   ],
   "source": [
    "svc = SVC(C= 2.0, kernel = 'linear',gamma = 'auto' ,probability=True )\n",
    "\n",
    "svc.fit(X_train_bow, y_train_bow)"
   ]
  },
  {
   "cell_type": "code",
   "execution_count": 47,
   "metadata": {},
   "outputs": [
    {
     "name": "stdout",
     "output_type": "stream",
     "text": [
      "              precision    recall  f1-score   support\n",
      "\n",
      "           0       0.99      0.99      0.99      3403\n",
      "           1       0.74      0.80      0.77       173\n",
      "\n",
      "    accuracy                           0.98      3576\n",
      "   macro avg       0.86      0.89      0.88      3576\n",
      "weighted avg       0.98      0.98      0.98      3576\n",
      "\n"
     ]
    },
    {
     "data": {
      "image/png": "[encoded data removed]",
      "text/plain": [
       "<Figure size 432x288 with 2 Axes>"
      ]
     },
     "metadata": {
      "needs_background": "light"
     },
     "output_type": "display_data"
    }
   ],
   "source": [
    "\n",
    "svm_predict = svc.predict(X_test_bow)\n",
    "\n",
    "print(classification_report(y_test_bow, svm_predict))\n",
    "\n",
    "cm_svm =confusion_matrix(y_test_bow, svm_predict)\n",
    "disp=ConfusionMatrixDisplay(confusion_matrix=cm_svm)\n",
    "disp.plot()\n",
    "plt.show()\n",
    "\n",
    "\n"
   ]
  },
  {
   "cell_type": "code",
   "execution_count": 48,
   "metadata": {},
   "outputs": [
    {
     "name": "stdout",
     "output_type": "stream",
     "text": [
      "Accuracy 0.9765100671140939\n",
      "F1 Score 0.7666666666666666\n",
      "Precision 0.7379679144385026\n",
      "Recall 0.7976878612716763\n"
     ]
    }
   ],
   "source": [
    "\n",
    "print(\"Accuracy\", accuracy_score(y_test_bow, svm_predict))\n",
    "\n",
    "\n",
    "print(\"F1 Score\", f1_score(y_test_bow, svm_predict))\n",
    "print(\"Precision\", precision_score(y_test_bow, svm_predict))\n",
    "print(\"Recall\", recall_score(y_test_bow, svm_predict))\n",
    "\n",
    "\n",
    "\n"
   ]
  },
  {
   "cell_type": "markdown",
   "metadata": {},
   "source": [
    "## AUC  Curve  of TF-IDF Vectorizer"
   ]
  },
  {
   "cell_type": "code",
   "execution_count": 49,
   "metadata": {},
   "outputs": [
    {
     "data": {
      "text/plain": [
       "<matplotlib.legend.Legend at 0x126897df0>"
      ]
     },
     "execution_count": 49,
     "metadata": {},
     "output_type": "execute_result"
    },
    {
     "data": {
      "image/png": "[encoded data removed]",
      "text/plain": [
       "<Figure size 432x288 with 1 Axes>"
      ]
     },
     "metadata": {
      "needs_background": "light"
     },
     "output_type": "display_data"
    }
   ],
   "source": [
    "from sklearn.svm import SVC\n",
    "from sklearn.metrics import plot_roc_curve\n",
    "from sklearn.datasets import make_classification\n",
    "import matplotlib.pyplot as plt\n",
    "import sklearn.metrics as metrics\n",
    "\n",
    "plt.figure(0).clf()\n",
    "plt.title(\"AUC Curve of Imbalance Data with TF-IDF Vectorizer\")\n",
    "\n",
    "#fit logistic regression model and plot ROC curve\n",
    "lr = LogisticRegression(C= 3,solver= 'liblinear',random_state = 42)\n",
    "lr.fit(X_train_tf, y_train_tf)\n",
    "y_pred_lr = lr.predict_proba(X_test_tf)[:, 1]\n",
    "fpr, tpr, _ = metrics.roc_curve(y_test_tf, y_pred_lr)\n",
    "auc = round(metrics.roc_auc_score(y_test_tf, y_pred_lr), 4)\n",
    "plt.plot(fpr,tpr,label=\"Logistic Regression, AUC=\"+str(auc))\n",
    "\n",
    "#fit gradient boosted model and plot ROC curve\n",
    "svc = SVC(C= 2.0, kernel = 'linear',gamma = 'auto' ,probability=True )\n",
    "svc.fit(X_train_tf, y_train_tf)\n",
    "y_pred_svc = svc.predict_proba(X_test_tf)[:, 1]\n",
    "fpr, tpr, _ = metrics.roc_curve(y_test_tf, y_pred_svc)\n",
    "auc = round(metrics.roc_auc_score(y_test_tf, y_pred_svc), 4)\n",
    "plt.plot(fpr,tpr,label=\"SVC, AUC=\"+str(auc))\n",
    "\n",
    "\n",
    "\n",
    "#fit gradient boosted model and plot ROC curve\n",
    "knn = KNeighborsClassifier(n_neighbors=6,weights = 'uniform')\n",
    "knn.fit(X_train_tf, y_train_tf)\n",
    "y_pred_knn = knn.predict_proba(X_test_tf)[:, 1]\n",
    "fpr, tpr, _ = metrics.roc_curve(y_test_tf, y_pred_knn)\n",
    "auc = round(metrics.roc_auc_score(y_test_tf, y_pred_knn), 4)\n",
    "plt.plot(fpr,tpr,label=\"KNeighborsClassifier, AUC=\"+str(auc))\n",
    "\n",
    "\n",
    "rf = RandomForestClassifier(n_estimators = 300,max_depth = 300, random_state = 2)\n",
    "rf.fit(X_train_tf, y_train_tf)\n",
    "y_pred_rf = rf.predict_proba(X_test_tf)[:, 1]\n",
    "fpr, tpr, _ = metrics.roc_curve(y_test_tf, y_pred_rf)\n",
    "auc = round(metrics.roc_auc_score(y_test_tf, y_pred_rf), 4)\n",
    "plt.plot(fpr,tpr,label=\"Random Forest\"+str(auc))\n",
    "\n",
    "mlp = MLPClassifier(solver='adam', \n",
    "                    activation = 'relu',\n",
    "                   hidden_layer_sizes = (100,50,2), \n",
    "                    random_state=5,\n",
    "                    max_iter = 1000)  \n",
    "mlp.fit(X_train_tf,y_train_tf)\n",
    "y_pred_mlp = mlp.predict_proba(X_test_tf)[:, 1]\n",
    "fpr, tpr, _ = metrics.roc_curve(y_test_tf, y_pred_mlp)\n",
    "auc = round(metrics.roc_auc_score(y_test_tf, y_pred_mlp), 4)\n",
    "plt.plot(fpr,tpr,label=\"mlp\"+str(auc))\n",
    "\n",
    "\n",
    "\n",
    "nb = MultinomialNB()\n",
    "nb.fit(X_train_tf, y_train_tf)\n",
    "y_pred_nb = nb.predict_proba(X_test_tf)[:, 1]\n",
    "fpr, tpr, _ = metrics.roc_curve(y_test_tf, y_pred_nb)\n",
    "auc = round(metrics.roc_auc_score(y_test_tf, y_pred_nb), 4)\n",
    "plt.plot(fpr,tpr,label=\"Naive Bayes\"+str(auc))\n",
    "\n",
    "\n",
    "\n",
    "#add legend\n",
    "plt.legend()\n",
    "\n",
    "\n"
   ]
  },
  {
   "cell_type": "markdown",
   "metadata": {},
   "source": [
    "## AUC of BoW Vectorizer"
   ]
  },
  {
   "cell_type": "code",
   "execution_count": 51,
   "metadata": {},
   "outputs": [
    {
     "data": {
      "text/plain": [
       "<matplotlib.legend.Legend at 0x126878a00>"
      ]
     },
     "execution_count": 51,
     "metadata": {},
     "output_type": "execute_result"
    },
    {
     "data": {
      "image/png": "[encoded data removed]",
      "text/plain": [
       "<Figure size 432x288 with 1 Axes>"
      ]
     },
     "metadata": {
      "needs_background": "light"
     },
     "output_type": "display_data"
    }
   ],
   "source": [
    "from sklearn.svm import SVC\n",
    "from sklearn.metrics import plot_roc_curve\n",
    "from sklearn.datasets import make_classification\n",
    "import matplotlib.pyplot as plt\n",
    "import sklearn.metrics as metrics\n",
    "\n",
    "plt.figure(0).clf()\n",
    "\n",
    "plt.title(\"AUC Curve of Imbalance Data with BoW Vectorizer\")\n",
    "\n",
    "#fit logistic regression model and plot ROC curve\n",
    "lr = LogisticRegression(C= 3,solver= 'liblinear',random_state = 42)\n",
    "lr.fit(X_train_bow, y_train_bow)\n",
    "y_pred_lr = lr.predict_proba(X_test_bow)[:, 1]\n",
    "fpr, tpr, _ = metrics.roc_curve(y_test_bow, y_pred_lr)\n",
    "auc = round(metrics.roc_auc_score(y_test_bow, y_pred_lr), 4)\n",
    "plt.plot(fpr,tpr,label=\"Logistic Regression, AUC=\"+str(auc))\n",
    "\n",
    "#fit gradient boosted model and plot ROC curve\n",
    "svc = SVC(C= 2.0, kernel = 'linear',gamma = 'auto' ,probability=True )\n",
    "svc.fit(X_train_bow, y_train_bow)\n",
    "y_pred_svc = svc.predict_proba(X_test_bow)[:, 1]\n",
    "fpr, tpr, _ = metrics.roc_curve(y_test_bow, y_pred_svc)\n",
    "auc = round(metrics.roc_auc_score(y_test_bow, y_pred_svc), 4)\n",
    "plt.plot(fpr,tpr,label=\"SVC, AUC=\"+str(auc))\n",
    "\n",
    "\n",
    "\n",
    "#fit gradient boosted model and plot ROC curve\n",
    "knn = KNeighborsClassifier(n_neighbors=6,weights = 'uniform')\n",
    "knn.fit(X_train_bow, y_train_bow)\n",
    "y_pred_knn = knn.predict_proba(X_test_bow)[:, 1]\n",
    "fpr, tpr, _ = metrics.roc_curve(y_test_bow, y_pred_knn)\n",
    "auc = round(metrics.roc_auc_score(y_test_bow, y_pred_knn), 4)\n",
    "plt.plot(fpr,tpr,label=\"KNeighborsClassifier, AUC=\"+str(auc))\n",
    "\n",
    "\n",
    "rf = RandomForestClassifier(n_estimators = 300,max_depth = 300, random_state = 2)\n",
    "rf.fit(X_train_bow, y_train_bow)\n",
    "y_pred_rf = rf.predict_proba(X_test_bow)[:, 1]\n",
    "fpr, tpr, _ = metrics.roc_curve(y_test_bow, y_pred_rf)\n",
    "auc = round(metrics.roc_auc_score(y_test_bow, y_pred_rf), 4)\n",
    "plt.plot(fpr,tpr,label=\"Random Forest\"+str(auc))\n",
    "\n",
    "mlp = MLPClassifier(solver='adam', \n",
    "                    activation = 'relu',\n",
    "                   hidden_layer_sizes = (100,50,2), \n",
    "                    random_state=5,\n",
    "                    max_iter = 1000)   \n",
    "mlp.fit(X_train_bow,y_train_bow)\n",
    "y_pred_mlp = mlp.predict_proba(X_test_bow)[:, 1]\n",
    "fpr, tpr, _ = metrics.roc_curve(y_test_bow, y_pred_mlp)\n",
    "auc = round(metrics.roc_auc_score(y_test_bow, y_pred_mlp), 4)\n",
    "plt.plot(fpr,tpr,label=\"mlp\"+str(auc))\n",
    "\n",
    "\n",
    "\n",
    "nb = MultinomialNB()\n",
    "nb.fit(X_train_bow, y_train_bow)\n",
    "y_pred_nb = nb.predict_proba(X_test_bow)[:, 1]\n",
    "fpr, tpr, _ = metrics.roc_curve(y_test_bow, y_pred_nb)\n",
    "auc = round(metrics.roc_auc_score(y_test_bow, y_pred_nb), 4)\n",
    "plt.plot(fpr,tpr,label=\"Naive Bayes\"+str(auc))\n",
    "\n",
    "\n",
    "\n",
    "#add legend\n",
    "plt.legend()\n",
    "\n",
    "\n",
    "\n"
   ]
  },
  {
   "cell_type": "markdown",
   "metadata": {},
   "source": [
    "## Tune Testing"
   ]
  },
  {
   "cell_type": "code",
   "execution_count": null,
   "metadata": {},
   "outputs": [],
   "source": [
    "#Hyper tune testing\n",
    "\n",
    "\n",
    "#from sklearn.model_selection import GridSearchCV\n",
    "  \n",
    "# Support Vector Machine\n",
    "\n",
    "\n",
    "# defining parameter range\n",
    "#param_grid = {'C': [0.1, 1,2,10 ], \n",
    "#              'kernel': ['rbf',linear]} \n",
    "  \n",
    "# grid = GridSearchCV(SVC(), param_grid, refit = True, verbose = 3)\n",
    "  \n",
    "# fitting the model for grid search\n",
    "#grid.fit(X_train_bow,y_train_bow)\n",
    "\n",
    "\n",
    "# Random Forest\n",
    "#param_grid = {'C': [0.1, 1,2,10 ], \n",
    "#              'kernel': ['rbf',linear]} \n",
    "  \n",
    "# grid = GridSearchCV(base_estimator, param_grid, cv=5,\n",
    "#                         factor=2, resource='n_estimators',\n",
    "#                        max_resources=300)\n",
    "  \n",
    "#from sklearn.model_selection import GridSearchCV\n",
    "#from sklearn.linear_model import LogisticRegression\n",
    "#grid= {C = np.logspace(-4, 4, 50)\n",
    "#    penalty = ['l1', 'l2']}\n",
    "#logreg=LogisticRegression()    \n",
    "    \n",
    "    \n",
    "# fitting the model for grid search\n",
    "#grid.fit(X_train_bow,y_train_bow)\n"
   ]
  }
 ],
 "metadata": {
  "kernelspec": {
   "display_name": "Python 3",
   "language": "python",
   "name": "python3"
  },
  "language_info": {
   "codemirror_mode": {
    "name": "ipython",
    "version": 3
   },
   "file_extension": ".py",
   "mimetype": "text/x-python",
   "name": "python",
   "nbconvert_exporter": "python",
   "pygments_lexer": "ipython3",
   "version": "3.9.2"
  }
 },
 "nbformat": 4,
 "nbformat_minor": 4
}
