{
 "cells": [
  {
   "cell_type": "code",
   "execution_count": 1,
   "metadata": {},
   "outputs": [
    {
     "name": "stderr",
     "output_type": "stream",
     "text": [
      "[nltk_data] Downloading package stopwords to\n",
      "[nltk_data]     /Users/sakshyamdahal/nltk_data...\n",
      "[nltk_data]   Package stopwords is already up-to-date!\n",
      "[nltk_data] Downloading package punkt to\n",
      "[nltk_data]     /Users/sakshyamdahal/nltk_data...\n",
      "[nltk_data]   Package punkt is already up-to-date!\n",
      "[nltk_data] Downloading package wordnet to\n",
      "[nltk_data]     /Users/sakshyamdahal/nltk_data...\n",
      "[nltk_data]   Package wordnet is already up-to-date!\n",
      "[nltk_data] Downloading package omw-1.4 to\n",
      "[nltk_data]     /Users/sakshyamdahal/nltk_data...\n",
      "[nltk_data]   Package omw-1.4 is already up-to-date!\n"
     ]
    }
   ],
   "source": [
    "import os\n",
    "import requests\n",
    "import csv\n",
    "import pandas as pd\n",
    "import numpy as np\n",
    "import matplotlib.pyplot as plt\n",
    "import seaborn as sns\n",
    "\n",
    "\n",
    "import os\n",
    "import re\n",
    "import emoji\n",
    "\n",
    "from collections import Counter, defaultdict\n",
    "from nltk.corpus import stopwords\n",
    "from string import punctuation\n",
    "import nltk\n",
    "nltk.download('stopwords')\n",
    "sw = stopwords.words(\"english\")\n",
    "nltk.download('punkt')\n",
    "nltk.download('wordnet')\n",
    "nltk.download('omw-1.4')\n",
    "import string\n",
    "from nltk.tokenize import word_tokenize\n",
    "\n",
    "import matplotlib.pyplot as plt\n",
    "import seaborn as sns\n",
    "import html \n",
    "from sklearn.feature_extraction.text import TfidfVectorizer\n",
    "from sklearn.pipeline import make_pipeline, Pipeline\n",
    "from collections import Counter\n",
    "from sklearn.svm import SVC\n",
    "from sklearn.metrics import accuracy_score\n",
    "from sklearn.metrics import confusion_matrix\n",
    "from sklearn.metrics import classification_report\n",
    "from sklearn.metrics import plot_confusion_matrix\n",
    "from sklearn.model_selection import cross_val_score\n",
    "from sklearn.pipeline import Pipeline\n",
    "from sklearn.model_selection import GridSearchCV\n",
    "from sklearn.svm import LinearSVC\n",
    "from sklearn.dummy import DummyClassifier\n",
    "from sklearn.metrics import confusion_matrix, accuracy_score, plot_confusion_matrix, classification_report\n",
    "from sklearn.model_selection import train_test_split, cross_val_score\n",
    "\n",
    "import warnings\n",
    "warnings.filterwarnings('ignore')\n",
    "warnings.simplefilter(action='ignore', category=FutureWarning)"
   ]
  },
  {
   "cell_type": "markdown",
   "metadata": {},
   "source": [
    "#  ADASYN Upsampling "
   ]
  },
  {
   "cell_type": "code",
   "execution_count": 2,
   "metadata": {},
   "outputs": [
    {
     "data": {
      "text/html": [
       "<div>\n",
       "<style scoped>\n",
       "    .dataframe tbody tr th:only-of-type {\n",
       "        vertical-align: middle;\n",
       "    }\n",
       "\n",
       "    .dataframe tbody tr th {\n",
       "        vertical-align: top;\n",
       "    }\n",
       "\n",
       "    .dataframe thead th {\n",
       "        text-align: right;\n",
       "    }\n",
       "</style>\n",
       "<table border=\"1\" class=\"dataframe\">\n",
       "  <thead>\n",
       "    <tr style=\"text-align: right;\">\n",
       "      <th></th>\n",
       "      <th>Unnamed: 0</th>\n",
       "      <th>text</th>\n",
       "      <th>fraudulent</th>\n",
       "      <th>clean_text</th>\n",
       "      <th>token</th>\n",
       "    </tr>\n",
       "  </thead>\n",
       "  <tbody>\n",
       "    <tr>\n",
       "      <th>0</th>\n",
       "      <td>0</td>\n",
       "      <td>Marketing Intern We're Food52, and we've creat...</td>\n",
       "      <td>0</td>\n",
       "      <td>market intern be food weve create groundbreaki...</td>\n",
       "      <td>['market', 'intern', 'be', 'food', 'weve', 'cr...</td>\n",
       "    </tr>\n",
       "    <tr>\n",
       "      <th>1</th>\n",
       "      <td>1</td>\n",
       "      <td>Customer Service - Cloud Video Production 90 S...</td>\n",
       "      <td>0</td>\n",
       "      <td>customer service cloud video production second...</td>\n",
       "      <td>['customer', 'service', 'cloud', 'video', 'pro...</td>\n",
       "    </tr>\n",
       "    <tr>\n",
       "      <th>2</th>\n",
       "      <td>2</td>\n",
       "      <td>Commissioning Machinery Assistant (CMA) Valor ...</td>\n",
       "      <td>0</td>\n",
       "      <td>commission machinery assistant cma valor servi...</td>\n",
       "      <td>['commission', 'machinery', 'assistant', 'cma'...</td>\n",
       "    </tr>\n",
       "    <tr>\n",
       "      <th>3</th>\n",
       "      <td>3</td>\n",
       "      <td>Account Executive - Washington DC Our passion ...</td>\n",
       "      <td>0</td>\n",
       "      <td>account executive washington dc passion improv...</td>\n",
       "      <td>['account', 'executive', 'washington', 'dc', '...</td>\n",
       "    </tr>\n",
       "    <tr>\n",
       "      <th>4</th>\n",
       "      <td>4</td>\n",
       "      <td>Bill Review Manager SpotSource Solutions LLC i...</td>\n",
       "      <td>0</td>\n",
       "      <td>bill review manager spotsource solutions llc g...</td>\n",
       "      <td>['bill', 'review', 'manager', 'spotsource', 's...</td>\n",
       "    </tr>\n",
       "  </tbody>\n",
       "</table>\n",
       "</div>"
      ],
      "text/plain": [
       "   Unnamed: 0                                               text  fraudulent  \\\n",
       "0           0  Marketing Intern We're Food52, and we've creat...           0   \n",
       "1           1  Customer Service - Cloud Video Production 90 S...           0   \n",
       "2           2  Commissioning Machinery Assistant (CMA) Valor ...           0   \n",
       "3           3  Account Executive - Washington DC Our passion ...           0   \n",
       "4           4  Bill Review Manager SpotSource Solutions LLC i...           0   \n",
       "\n",
       "                                          clean_text  \\\n",
       "0  market intern be food weve create groundbreaki...   \n",
       "1  customer service cloud video production second...   \n",
       "2  commission machinery assistant cma valor servi...   \n",
       "3  account executive washington dc passion improv...   \n",
       "4  bill review manager spotsource solutions llc g...   \n",
       "\n",
       "                                               token  \n",
       "0  ['market', 'intern', 'be', 'food', 'weve', 'cr...  \n",
       "1  ['customer', 'service', 'cloud', 'video', 'pro...  \n",
       "2  ['commission', 'machinery', 'assistant', 'cma'...  \n",
       "3  ['account', 'executive', 'washington', 'dc', '...  \n",
       "4  ['bill', 'review', 'manager', 'spotsource', 's...  "
      ]
     },
     "execution_count": 2,
     "metadata": {},
     "output_type": "execute_result"
    }
   ],
   "source": [
    "## Data Loading \n",
    "\n",
    "df = pd.read_csv(\"/Users/sakshyamdahal/Desktop/MS_Data_Science/capstone_game_recommender/clean_df\")\n",
    "df.head(5)"
   ]
  },
  {
   "cell_type": "code",
   "execution_count": 3,
   "metadata": {},
   "outputs": [
    {
     "data": {
      "text/plain": [
       "pandas.core.frame.DataFrame"
      ]
     },
     "execution_count": 3,
     "metadata": {},
     "output_type": "execute_result"
    }
   ],
   "source": [
    "X=df.drop(['fraudulent','text', 'token','Unnamed: 0'], axis=1)\n",
    "y=df['fraudulent']\n",
    "\n",
    "type(X)"
   ]
  },
  {
   "cell_type": "code",
   "execution_count": 4,
   "metadata": {},
   "outputs": [
    {
     "data": {
      "text/plain": [
       "(17880, 1)"
      ]
     },
     "execution_count": 4,
     "metadata": {},
     "output_type": "execute_result"
    }
   ],
   "source": [
    "X.shape"
   ]
  },
  {
   "cell_type": "code",
   "execution_count": 5,
   "metadata": {},
   "outputs": [
    {
     "data": {
      "text/plain": [
       "(17880, 18370)"
      ]
     },
     "execution_count": 5,
     "metadata": {},
     "output_type": "execute_result"
    }
   ],
   "source": [
    "from sklearn.feature_extraction.text import TfidfTransformer\n",
    "from sklearn.feature_extraction.text import CountVectorizer\n",
    "from sklearn.feature_extraction.text import TfidfVectorizer\n",
    "stopwords = set(nltk.corpus.stopwords.words('english'))\n",
    "\n",
    "\n",
    "\n",
    "tfidf_text_vectorizer = TfidfVectorizer(stop_words=stopwords, min_df=5, max_df=0.7)\n",
    "tfidf_text_vectors = tfidf_text_vectorizer.fit_transform(X[\"clean_text\"])\n",
    "tfidf_text_vectors.shape"
   ]
  },
  {
   "cell_type": "code",
   "execution_count": 6,
   "metadata": {},
   "outputs": [
    {
     "data": {
      "text/plain": [
       "(17880, 18370)"
      ]
     },
     "execution_count": 6,
     "metadata": {},
     "output_type": "execute_result"
    }
   ],
   "source": [
    "count_text_vectorizer = CountVectorizer(stop_words=stopwords, min_df=5, max_df=0.7)\n",
    "count_text_vectors = count_text_vectorizer.fit_transform(X['clean_text'])\n",
    "count_text_vectors.shape\n",
    "\n",
    "\n"
   ]
  },
  {
   "cell_type": "code",
   "execution_count": 7,
   "metadata": {},
   "outputs": [],
   "source": [
    "from imblearn.over_sampling import SMOTE, ADASYN\n",
    "\n",
    "adasyn = ADASYN('minority',random_state=1)\n",
    "\n",
    "X_tf, y_tf= adasyn.fit_resample(tfidf_text_vectors, y)\n",
    "\n",
    "X_bow, y_bow= adasyn.fit_resample(count_text_vectors, y)\n",
    "\n",
    "\n",
    "X_train_tf, X_test_tf, y_train_tf, y_test_tf = train_test_split(X_tf,y_tf, test_size=0.20,random_state=0,stratify=y_tf)\n",
    "\n",
    "\n",
    "\n",
    "X_train_bow, X_test_bow, y_train_bow, y_test_bow = train_test_split(X_bow,y_bow, test_size=0.20,random_state=0,stratify=y_bow)\n",
    "\n"
   ]
  },
  {
   "cell_type": "markdown",
   "metadata": {},
   "source": [
    "\n",
    "# Modeling \n",
    "\n",
    "## Logistic Regression tfidf"
   ]
  },
  {
   "cell_type": "code",
   "execution_count": 8,
   "metadata": {},
   "outputs": [
    {
     "data": {
      "text/plain": [
       "LogisticRegression(C=3, random_state=42, solver='liblinear')"
      ]
     },
     "execution_count": 8,
     "metadata": {},
     "output_type": "execute_result"
    }
   ],
   "source": [
    "from sklearn.linear_model import LogisticRegression\n",
    "logreg = LogisticRegression(C= 3,solver= 'liblinear',random_state = 42)\n",
    "logreg.fit(X_train_tf, y_train_tf)\n",
    "\n"
   ]
  },
  {
   "cell_type": "code",
   "execution_count": 9,
   "metadata": {},
   "outputs": [
    {
     "name": "stdout",
     "output_type": "stream",
     "text": [
      "              precision    recall  f1-score   support\n",
      "\n",
      "           0       1.00      0.98      0.99      3403\n",
      "           1       0.98      1.00      0.99      3423\n",
      "\n",
      "    accuracy                           0.99      6826\n",
      "   macro avg       0.99      0.99      0.99      6826\n",
      "weighted avg       0.99      0.99      0.99      6826\n",
      "\n"
     ]
    },
    {
     "data": {
      "image/png": "[encoded data removed]",
      "text/plain": [
       "<Figure size 432x288 with 2 Axes>"
      ]
     },
     "metadata": {
      "needs_background": "light"
     },
     "output_type": "display_data"
    }
   ],
   "source": [
    "from sklearn.metrics import accuracy_score, classification_report\n",
    "\n",
    "from sklearn.metrics import confusion_matrix, ConfusionMatrixDisplay\n",
    "\n",
    "\n",
    "\n",
    "lr_predict = logreg.predict(X_test_tf)\n",
    "\n",
    "print(classification_report(y_test_tf, lr_predict))\n",
    "\n",
    "\n",
    "cm_lr =confusion_matrix(y_test_tf, lr_predict)\n",
    "disp=ConfusionMatrixDisplay(confusion_matrix=cm_lr)\n",
    "disp.plot()\n",
    "plt.show()\n",
    "\n",
    "\n"
   ]
  },
  {
   "cell_type": "code",
   "execution_count": 10,
   "metadata": {},
   "outputs": [
    {
     "name": "stdout",
     "output_type": "stream",
     "text": [
      "Accuracy 0.9907705830647524\n",
      "F1 Score 0.9908814589665653\n",
      "Precision 0.9819277108433735\n",
      "Recall 1.0\n"
     ]
    }
   ],
   "source": [
    "from sklearn.metrics import precision_score, recall_score, f1_score, accuracy_score\n",
    "\n",
    "print(\"Accuracy\", accuracy_score(y_test_tf, lr_predict))\n",
    "\n",
    "\n",
    "print(\"F1 Score\", f1_score(y_test_tf, lr_predict))\n",
    "print(\"Precision\", precision_score(y_test_tf, lr_predict))\n",
    "print(\"Recall\", recall_score(y_test_tf, lr_predict))\n",
    "\n",
    "\n"
   ]
  },
  {
   "cell_type": "markdown",
   "metadata": {},
   "source": [
    "## Logistic Regression Bow\n"
   ]
  },
  {
   "cell_type": "code",
   "execution_count": 11,
   "metadata": {},
   "outputs": [
    {
     "data": {
      "text/plain": [
       "LogisticRegression(C=3, random_state=42, solver='liblinear')"
      ]
     },
     "execution_count": 11,
     "metadata": {},
     "output_type": "execute_result"
    }
   ],
   "source": [
    "from sklearn.linear_model import LogisticRegression\n",
    "logreg = LogisticRegression(C= 3,solver= 'liblinear',random_state = 42)\n",
    "logreg.fit(X_train_bow, y_train_bow)\n",
    "\n",
    "\n"
   ]
  },
  {
   "cell_type": "code",
   "execution_count": 12,
   "metadata": {},
   "outputs": [
    {
     "name": "stdout",
     "output_type": "stream",
     "text": [
      "              precision    recall  f1-score   support\n",
      "\n",
      "           0       0.99      0.98      0.98      3403\n",
      "           1       0.98      0.99      0.98      3390\n",
      "\n",
      "    accuracy                           0.98      6793\n",
      "   macro avg       0.98      0.98      0.98      6793\n",
      "weighted avg       0.98      0.98      0.98      6793\n",
      "\n"
     ]
    },
    {
     "data": {
      "image/png": "[encoded data removed]",
      "text/plain": [
       "<Figure size 432x288 with 2 Axes>"
      ]
     },
     "metadata": {
      "needs_background": "light"
     },
     "output_type": "display_data"
    }
   ],
   "source": [
    "lr_predict = logreg.predict(X_test_bow)\n",
    "\n",
    "print(classification_report(y_test_bow, lr_predict))\n",
    "\n",
    "\n",
    "cm_lr =confusion_matrix(y_test_bow, lr_predict)\n",
    "disp=ConfusionMatrixDisplay(confusion_matrix=cm_lr)\n",
    "disp.plot()\n",
    "plt.show()\n",
    "\n",
    "\n"
   ]
  },
  {
   "cell_type": "code",
   "execution_count": 13,
   "metadata": {},
   "outputs": [
    {
     "name": "stdout",
     "output_type": "stream",
     "text": [
      "Accuracy 0.9846901221846018\n",
      "F1 Score 0.9847730600292824\n",
      "Precision 0.9776162790697674\n",
      "Recall 0.9920353982300885\n"
     ]
    }
   ],
   "source": [
    "print(\"Accuracy\", accuracy_score(y_test_bow, lr_predict))\n",
    "\n",
    "\n",
    "print(\"F1 Score\", f1_score(y_test_bow, lr_predict))\n",
    "print(\"Precision\", precision_score(y_test_bow, lr_predict))\n",
    "print(\"Recall\", recall_score(y_test_bow, lr_predict))\n",
    "\n",
    "\n"
   ]
  },
  {
   "cell_type": "markdown",
   "metadata": {},
   "source": [
    "## Random Forest tf-idf"
   ]
  },
  {
   "cell_type": "code",
   "execution_count": 14,
   "metadata": {},
   "outputs": [
    {
     "data": {
      "text/plain": [
       "RandomForestClassifier(max_depth=300, n_estimators=300, random_state=2)"
      ]
     },
     "execution_count": 14,
     "metadata": {},
     "output_type": "execute_result"
    }
   ],
   "source": [
    "from sklearn.ensemble import RandomForestClassifier\n",
    "\n",
    "rf = RandomForestClassifier(n_estimators = 300,max_depth = 300, random_state = 2)\n",
    "rf.fit(X_train_tf, y_train_tf)\n",
    "\n"
   ]
  },
  {
   "cell_type": "code",
   "execution_count": 15,
   "metadata": {},
   "outputs": [
    {
     "name": "stdout",
     "output_type": "stream",
     "text": [
      "              precision    recall  f1-score   support\n",
      "\n",
      "           0       1.00      1.00      1.00      3403\n",
      "           1       1.00      1.00      1.00      3423\n",
      "\n",
      "    accuracy                           1.00      6826\n",
      "   macro avg       1.00      1.00      1.00      6826\n",
      "weighted avg       1.00      1.00      1.00      6826\n",
      "\n"
     ]
    },
    {
     "data": {
      "image/png": "[encoded data removed]",
      "text/plain": [
       "<Figure size 432x288 with 2 Axes>"
      ]
     },
     "metadata": {
      "needs_background": "light"
     },
     "output_type": "display_data"
    }
   ],
   "source": [
    "\n",
    "rf_predict = rf.predict(X_test_tf)\n",
    "\n",
    "print(classification_report(y_test_tf, rf_predict))\n",
    "\n",
    "cm_rf =confusion_matrix(y_test_tf, rf_predict)\n",
    "disp=ConfusionMatrixDisplay(confusion_matrix=cm_rf)\n",
    "disp.plot()\n",
    "plt.show()\n",
    "\n",
    "\n",
    "\n"
   ]
  },
  {
   "cell_type": "code",
   "execution_count": 16,
   "metadata": {},
   "outputs": [
    {
     "name": "stdout",
     "output_type": "stream",
     "text": [
      "Accuracy 0.9975095224142982\n",
      "F1 Score 0.9975135293257276\n",
      "Precision 0.9988283538371412\n",
      "Recall 0.9962021618463336\n"
     ]
    }
   ],
   "source": [
    "\n",
    "print(\"Accuracy\", accuracy_score(y_test_tf, rf_predict))\n",
    "\n",
    "\n",
    "print(\"F1 Score\", f1_score(y_test_tf, rf_predict))\n",
    "print(\"Precision\", precision_score(y_test_tf, rf_predict))\n",
    "print(\"Recall\", recall_score(y_test_tf, rf_predict))\n",
    "\n",
    "\n",
    "\n"
   ]
  },
  {
   "cell_type": "markdown",
   "metadata": {},
   "source": [
    "## Random Forest BoW"
   ]
  },
  {
   "cell_type": "code",
   "execution_count": 17,
   "metadata": {},
   "outputs": [
    {
     "data": {
      "text/plain": [
       "RandomForestClassifier(max_depth=300, n_estimators=300, random_state=2)"
      ]
     },
     "execution_count": 17,
     "metadata": {},
     "output_type": "execute_result"
    }
   ],
   "source": [
    "rf = RandomForestClassifier(n_estimators = 300,max_depth = 300, random_state = 2)\n",
    "rf.fit(X_train_bow, y_train_bow)"
   ]
  },
  {
   "cell_type": "code",
   "execution_count": 18,
   "metadata": {},
   "outputs": [
    {
     "name": "stdout",
     "output_type": "stream",
     "text": [
      "              precision    recall  f1-score   support\n",
      "\n",
      "           0       0.99      0.98      0.99      3403\n",
      "           1       0.98      0.99      0.99      3390\n",
      "\n",
      "    accuracy                           0.99      6793\n",
      "   macro avg       0.99      0.99      0.99      6793\n",
      "weighted avg       0.99      0.99      0.99      6793\n",
      "\n"
     ]
    },
    {
     "data": {
      "image/png": "[encoded data removed]",
      "text/plain": [
       "<Figure size 432x288 with 2 Axes>"
      ]
     },
     "metadata": {
      "needs_background": "light"
     },
     "output_type": "display_data"
    }
   ],
   "source": [
    "\n",
    "rf_predict = rf.predict(X_test_bow)\n",
    "\n",
    "print(classification_report(y_test_bow, rf_predict))\n",
    "\n",
    "cm_rf =confusion_matrix(y_test_bow, rf_predict)\n",
    "disp=ConfusionMatrixDisplay(confusion_matrix=cm_rf)\n",
    "disp.plot()\n",
    "plt.show()\n",
    "\n",
    "\n",
    "\n"
   ]
  },
  {
   "cell_type": "code",
   "execution_count": 19,
   "metadata": {},
   "outputs": [
    {
     "name": "stdout",
     "output_type": "stream",
     "text": [
      "Accuracy 0.9868982776387457\n",
      "F1 Score 0.986905987935854\n",
      "Precision 0.9844437921925447\n",
      "Recall 0.9893805309734514\n"
     ]
    }
   ],
   "source": [
    "print(\"Accuracy\", accuracy_score(y_test_bow, rf_predict))\n",
    "\n",
    "\n",
    "print(\"F1 Score\", f1_score(y_test_bow, rf_predict))\n",
    "print(\"Precision\", precision_score(y_test_bow, rf_predict))\n",
    "print(\"Recall\", recall_score(y_test_bow, rf_predict))\n",
    "\n",
    "\n",
    "\n",
    "\n"
   ]
  },
  {
   "cell_type": "markdown",
   "metadata": {},
   "source": [
    "## Naive Bayes tf-idf"
   ]
  },
  {
   "cell_type": "code",
   "execution_count": 20,
   "metadata": {},
   "outputs": [
    {
     "data": {
      "text/plain": [
       "MultinomialNB()"
      ]
     },
     "execution_count": 20,
     "metadata": {},
     "output_type": "execute_result"
    }
   ],
   "source": [
    "from sklearn.naive_bayes import MultinomialNB\n",
    "from sklearn.metrics import f1_score\n",
    "\n",
    "NB = MultinomialNB()\n",
    "NB.fit(X_train_tf, y_train_tf)\n",
    "\n"
   ]
  },
  {
   "cell_type": "code",
   "execution_count": 21,
   "metadata": {},
   "outputs": [
    {
     "name": "stdout",
     "output_type": "stream",
     "text": [
      "              precision    recall  f1-score   support\n",
      "\n",
      "           0       1.00      0.91      0.95      3403\n",
      "           1       0.92      1.00      0.95      3423\n",
      "\n",
      "    accuracy                           0.95      6826\n",
      "   macro avg       0.96      0.95      0.95      6826\n",
      "weighted avg       0.96      0.95      0.95      6826\n",
      "\n"
     ]
    },
    {
     "data": {
      "image/png": "[encoded data removed]",
      "text/plain": [
       "<Figure size 432x288 with 2 Axes>"
      ]
     },
     "metadata": {
      "needs_background": "light"
     },
     "output_type": "display_data"
    }
   ],
   "source": [
    "\n",
    "nb_predict = NB.predict(X_test_tf)\n",
    "\n",
    "print(classification_report(y_test_tf, nb_predict))\n",
    "\n",
    "cm_nb =confusion_matrix(y_test_tf, nb_predict)\n",
    "disp=ConfusionMatrixDisplay(confusion_matrix=cm_nb)\n",
    "disp.plot()\n",
    "plt.show()\n",
    "\n"
   ]
  },
  {
   "cell_type": "code",
   "execution_count": 22,
   "metadata": {},
   "outputs": [
    {
     "name": "stdout",
     "output_type": "stream",
     "text": [
      "Accuracy 0.952827424553179\n",
      "F1 Score 0.9549524342473419\n",
      "Precision 0.916241610738255\n",
      "Recall 0.9970785860356413\n"
     ]
    }
   ],
   "source": [
    "\n",
    "print(\"Accuracy\", accuracy_score(y_test_tf, nb_predict))\n",
    "\n",
    "\n",
    "print(\"F1 Score\", f1_score(y_test_tf, nb_predict))\n",
    "print(\"Precision\", precision_score(y_test_tf, nb_predict))\n",
    "print(\"Recall\", recall_score(y_test_tf, nb_predict))\n",
    "\n",
    "\n",
    "\n"
   ]
  },
  {
   "cell_type": "markdown",
   "metadata": {},
   "source": [
    "## Naive Bayes BoW"
   ]
  },
  {
   "cell_type": "code",
   "execution_count": 23,
   "metadata": {},
   "outputs": [
    {
     "data": {
      "text/plain": [
       "MultinomialNB()"
      ]
     },
     "execution_count": 23,
     "metadata": {},
     "output_type": "execute_result"
    }
   ],
   "source": [
    "NB = MultinomialNB()\n",
    "NB.fit(X_train_bow, y_train_bow)"
   ]
  },
  {
   "cell_type": "code",
   "execution_count": 24,
   "metadata": {},
   "outputs": [
    {
     "name": "stdout",
     "output_type": "stream",
     "text": [
      "              precision    recall  f1-score   support\n",
      "\n",
      "           0       0.88      0.96      0.92      3403\n",
      "           1       0.96      0.87      0.91      3390\n",
      "\n",
      "    accuracy                           0.91      6793\n",
      "   macro avg       0.92      0.91      0.91      6793\n",
      "weighted avg       0.92      0.91      0.91      6793\n",
      "\n"
     ]
    },
    {
     "data": {
      "image/png": "[encoded data removed]",
      "text/plain": [
       "<Figure size 432x288 with 2 Axes>"
      ]
     },
     "metadata": {
      "needs_background": "light"
     },
     "output_type": "display_data"
    }
   ],
   "source": [
    "\n",
    "nb_predict = NB.predict(X_test_bow)\n",
    "\n",
    "print(classification_report(y_test_bow, nb_predict))\n",
    "\n",
    "cm_nb =confusion_matrix(y_test_bow, nb_predict)\n",
    "disp=ConfusionMatrixDisplay(confusion_matrix=cm_nb)\n",
    "disp.plot()\n",
    "plt.show()\n",
    "\n",
    "\n",
    "\n",
    "\n"
   ]
  },
  {
   "cell_type": "code",
   "execution_count": 25,
   "metadata": {},
   "outputs": [
    {
     "name": "stdout",
     "output_type": "stream",
     "text": [
      "Accuracy 0.9131458854703371\n",
      "F1 Score 0.9086404459585011\n",
      "Precision 0.9563233376792699\n",
      "Recall 0.8654867256637168\n"
     ]
    }
   ],
   "source": [
    "\n",
    "print(\"Accuracy\", accuracy_score(y_test_bow, nb_predict))\n",
    "\n",
    "\n",
    "print(\"F1 Score\", f1_score(y_test_bow, nb_predict))\n",
    "print(\"Precision\", precision_score(y_test_bow, nb_predict))\n",
    "print(\"Recall\", recall_score(y_test_bow, nb_predict))\n",
    "\n",
    "\n",
    "\n"
   ]
  },
  {
   "cell_type": "markdown",
   "metadata": {},
   "source": [
    "## Multi Layer Perceptron tf-idf"
   ]
  },
  {
   "cell_type": "code",
   "execution_count": 26,
   "metadata": {},
   "outputs": [
    {
     "data": {
      "text/plain": [
       "MLPClassifier(hidden_layer_sizes=(100, 50, 2), max_iter=1000, random_state=5)"
      ]
     },
     "execution_count": 26,
     "metadata": {},
     "output_type": "execute_result"
    }
   ],
   "source": [
    "from sklearn.neural_network import MLPClassifier\n",
    "mlp = MLPClassifier(solver='adam', \n",
    "                    activation = 'relu',\n",
    "                   hidden_layer_sizes = (100,50,2), \n",
    "                    random_state=5,\n",
    "                    max_iter = 1000)  \n",
    "mlp.fit(X_train_tf,y_train_tf)\n",
    "\n"
   ]
  },
  {
   "cell_type": "code",
   "execution_count": 27,
   "metadata": {},
   "outputs": [
    {
     "name": "stdout",
     "output_type": "stream",
     "text": [
      "              precision    recall  f1-score   support\n",
      "\n",
      "           0       1.00      0.99      1.00      3403\n",
      "           1       0.99      1.00      1.00      3423\n",
      "\n",
      "    accuracy                           1.00      6826\n",
      "   macro avg       1.00      1.00      1.00      6826\n",
      "weighted avg       1.00      1.00      1.00      6826\n",
      "\n"
     ]
    },
    {
     "data": {
      "image/png": "[encoded data removed]",
      "text/plain": [
       "<Figure size 432x288 with 2 Axes>"
      ]
     },
     "metadata": {
      "needs_background": "light"
     },
     "output_type": "display_data"
    }
   ],
   "source": [
    "mlp_predict = mlp.predict(X_test_tf)\n",
    "\n",
    "print(classification_report(y_test_tf, mlp_predict))\n",
    "\n",
    "cm_mlp =confusion_matrix(y_test_tf, mlp_predict)\n",
    "disp=ConfusionMatrixDisplay(confusion_matrix=cm_mlp)\n",
    "disp.plot()\n",
    "plt.show()\n",
    "\n",
    "\n",
    "\n",
    "\n"
   ]
  },
  {
   "cell_type": "code",
   "execution_count": 28,
   "metadata": {},
   "outputs": [
    {
     "name": "stdout",
     "output_type": "stream",
     "text": [
      "Accuracy 0.9966305303252271\n",
      "F1 Score 0.9966516232348231\n",
      "Precision 0.9933255948926292\n",
      "Recall 1.0\n"
     ]
    }
   ],
   "source": [
    "\n",
    "print(\"Accuracy\", accuracy_score(y_test_tf, mlp_predict))\n",
    "\n",
    "\n",
    "print(\"F1 Score\", f1_score(y_test_tf, mlp_predict))\n",
    "print(\"Precision\", precision_score(y_test_tf, mlp_predict))\n",
    "print(\"Recall\", recall_score(y_test_tf, mlp_predict))\n",
    "\n",
    "\n"
   ]
  },
  {
   "cell_type": "markdown",
   "metadata": {},
   "source": [
    "## Multi Layer Perceptron BoW\n",
    "\n"
   ]
  },
  {
   "cell_type": "code",
   "execution_count": 29,
   "metadata": {},
   "outputs": [
    {
     "data": {
      "text/plain": [
       "MLPClassifier(hidden_layer_sizes=(100, 50, 2), max_iter=1000, random_state=5)"
      ]
     },
     "execution_count": 29,
     "metadata": {},
     "output_type": "execute_result"
    }
   ],
   "source": [
    "from sklearn.neural_network import MLPClassifier\n",
    "mlp = MLPClassifier(solver='adam', \n",
    "                    activation = 'relu',\n",
    "                   hidden_layer_sizes = (100,50,2), \n",
    "                    random_state=5,\n",
    "                    max_iter = 1000)  \n",
    "mlp.fit(X_train_bow,y_train_bow)\n",
    "\n",
    "\n"
   ]
  },
  {
   "cell_type": "code",
   "execution_count": 30,
   "metadata": {},
   "outputs": [
    {
     "name": "stdout",
     "output_type": "stream",
     "text": [
      "              precision    recall  f1-score   support\n",
      "\n",
      "           0       0.99      0.98      0.99      3403\n",
      "           1       0.98      0.99      0.99      3390\n",
      "\n",
      "    accuracy                           0.99      6793\n",
      "   macro avg       0.99      0.99      0.99      6793\n",
      "weighted avg       0.99      0.99      0.99      6793\n",
      "\n"
     ]
    },
    {
     "data": {
      "image/png": "[encoded data removed]",
      "text/plain": [
       "<Figure size 432x288 with 2 Axes>"
      ]
     },
     "metadata": {
      "needs_background": "light"
     },
     "output_type": "display_data"
    }
   ],
   "source": [
    "mlp_predict = mlp.predict(X_test_bow)\n",
    "\n",
    "print(classification_report(y_test_bow, mlp_predict))\n",
    "\n",
    "cm_mlp =confusion_matrix(y_test_bow, mlp_predict)\n",
    "disp=ConfusionMatrixDisplay(confusion_matrix=cm_mlp)\n",
    "disp.plot()\n",
    "plt.show()\n",
    "\n",
    "\n"
   ]
  },
  {
   "cell_type": "code",
   "execution_count": 31,
   "metadata": {},
   "outputs": [
    {
     "name": "stdout",
     "output_type": "stream",
     "text": [
      "Accuracy 0.9885175916384513\n",
      "F1 Score 0.9885462555066078\n",
      "Precision 0.9842105263157894\n",
      "Recall 0.9929203539823008\n"
     ]
    }
   ],
   "source": [
    "\n",
    "print(\"Accuracy\", accuracy_score(y_test_bow, mlp_predict))\n",
    "\n",
    "\n",
    "print(\"F1 Score\", f1_score(y_test_bow, mlp_predict))\n",
    "print(\"Precision\", precision_score(y_test_bow, mlp_predict))\n",
    "print(\"Recall\", recall_score(y_test_bow, mlp_predict))\n",
    "\n",
    "\n",
    "\n",
    "\n"
   ]
  },
  {
   "cell_type": "markdown",
   "metadata": {},
   "source": [
    "## KNN tf-idf"
   ]
  },
  {
   "cell_type": "code",
   "execution_count": 32,
   "metadata": {},
   "outputs": [
    {
     "data": {
      "text/plain": [
       "KNeighborsClassifier(n_neighbors=6)"
      ]
     },
     "execution_count": 32,
     "metadata": {},
     "output_type": "execute_result"
    }
   ],
   "source": [
    "from sklearn.neighbors import KNeighborsClassifier\n",
    "\n",
    "knn = KNeighborsClassifier(n_neighbors=6,weights = 'uniform')\n",
    "\n",
    "knn.fit(X_train_tf,y_train_tf)\n",
    "\n"
   ]
  },
  {
   "cell_type": "code",
   "execution_count": 33,
   "metadata": {},
   "outputs": [
    {
     "name": "stdout",
     "output_type": "stream",
     "text": [
      "              precision    recall  f1-score   support\n",
      "\n",
      "           0       1.00      0.76      0.86      3403\n",
      "           1       0.81      1.00      0.89      3423\n",
      "\n",
      "    accuracy                           0.88      6826\n",
      "   macro avg       0.90      0.88      0.88      6826\n",
      "weighted avg       0.90      0.88      0.88      6826\n",
      "\n"
     ]
    },
    {
     "data": {
      "image/png": "[encoded data removed]",
      "text/plain": [
       "<Figure size 432x288 with 2 Axes>"
      ]
     },
     "metadata": {
      "needs_background": "light"
     },
     "output_type": "display_data"
    }
   ],
   "source": [
    "\n",
    "knn_predict = knn.predict(X_test_tf)\n",
    "\n",
    "print(classification_report(y_test_tf, knn_predict))\n",
    "\n",
    "\n",
    "cm_knn =confusion_matrix(y_test_tf, knn_predict)\n",
    "disp=ConfusionMatrixDisplay(confusion_matrix=cm_knn)\n",
    "disp.plot()\n",
    "plt.show()\n",
    "\n"
   ]
  },
  {
   "cell_type": "code",
   "execution_count": 34,
   "metadata": {},
   "outputs": [
    {
     "name": "stdout",
     "output_type": "stream",
     "text": [
      "Accuracy 0.8807500732493407\n",
      "F1 Score 0.8937336814621409\n",
      "Precision 0.8078829360396507\n",
      "Recall 1.0\n"
     ]
    }
   ],
   "source": [
    "\n",
    "print(\"Accuracy\", accuracy_score(y_test_tf, knn_predict))\n",
    "\n",
    "\n",
    "print(\"F1 Score\", f1_score(y_test_tf, knn_predict))\n",
    "print(\"Precision\", precision_score(y_test_tf, knn_predict))\n",
    "print(\"Recall\", recall_score(y_test_tf, knn_predict))\n",
    "\n"
   ]
  },
  {
   "cell_type": "markdown",
   "metadata": {},
   "source": [
    "## KNN BoW"
   ]
  },
  {
   "cell_type": "code",
   "execution_count": 35,
   "metadata": {},
   "outputs": [
    {
     "data": {
      "text/plain": [
       "KNeighborsClassifier(n_neighbors=6)"
      ]
     },
     "execution_count": 35,
     "metadata": {},
     "output_type": "execute_result"
    }
   ],
   "source": [
    "knn = KNeighborsClassifier(n_neighbors=6,weights = 'uniform')\n",
    "knn.fit(X_train_bow,y_train_bow)\n",
    "\n",
    "\n"
   ]
  },
  {
   "cell_type": "code",
   "execution_count": 36,
   "metadata": {},
   "outputs": [
    {
     "name": "stdout",
     "output_type": "stream",
     "text": [
      "              precision    recall  f1-score   support\n",
      "\n",
      "           0       1.00      0.73      0.84      3403\n",
      "           1       0.79      1.00      0.88      3390\n",
      "\n",
      "    accuracy                           0.86      6793\n",
      "   macro avg       0.89      0.86      0.86      6793\n",
      "weighted avg       0.89      0.86      0.86      6793\n",
      "\n"
     ]
    },
    {
     "data": {
      "image/png": "[encoded data removed]",
      "text/plain": [
       "<Figure size 432x288 with 2 Axes>"
      ]
     },
     "metadata": {
      "needs_background": "light"
     },
     "output_type": "display_data"
    }
   ],
   "source": [
    "\n",
    "knn_predict = knn.predict(X_test_bow)\n",
    "\n",
    "print(classification_report(y_test_bow, knn_predict))\n",
    "\n",
    "\n",
    "cm_knn =confusion_matrix(y_test_bow, knn_predict)\n",
    "disp=ConfusionMatrixDisplay(confusion_matrix=cm_knn)\n",
    "disp.plot()\n",
    "plt.show()\n",
    "\n"
   ]
  },
  {
   "cell_type": "code",
   "execution_count": 37,
   "metadata": {},
   "outputs": [
    {
     "name": "stdout",
     "output_type": "stream",
     "text": [
      "Accuracy 0.864124834388341\n",
      "F1 Score 0.880176554589121\n",
      "Precision 0.7859958265708323\n",
      "Recall 1.0\n"
     ]
    }
   ],
   "source": [
    "\n",
    "print(\"Accuracy\", accuracy_score(y_test_bow, knn_predict))\n",
    "\n",
    "\n",
    "print(\"F1 Score\", f1_score(y_test_bow, knn_predict))\n",
    "print(\"Precision\", precision_score(y_test_bow, knn_predict))\n",
    "print(\"Recall\", recall_score(y_test_bow, knn_predict))\n",
    "\n",
    "\n",
    "\n",
    "\n",
    "\n"
   ]
  },
  {
   "cell_type": "markdown",
   "metadata": {},
   "source": [
    "## Support Vector Machine tf-idf"
   ]
  },
  {
   "cell_type": "code",
   "execution_count": 38,
   "metadata": {},
   "outputs": [
    {
     "data": {
      "text/plain": [
       "SVC(C=2.0, gamma='auto', kernel='linear')"
      ]
     },
     "execution_count": 38,
     "metadata": {},
     "output_type": "execute_result"
    }
   ],
   "source": [
    "from sklearn.svm import SVC\n",
    "\n",
    "svc = SVC(C= 2.0, kernel = 'linear',gamma = 'auto' )\n",
    "\n",
    "svc.fit(X_train_tf, y_train_tf)\n",
    "\n"
   ]
  },
  {
   "cell_type": "code",
   "execution_count": 39,
   "metadata": {},
   "outputs": [
    {
     "name": "stdout",
     "output_type": "stream",
     "text": [
      "              precision    recall  f1-score   support\n",
      "\n",
      "           0       1.00      0.99      1.00      3403\n",
      "           1       0.99      1.00      1.00      3423\n",
      "\n",
      "    accuracy                           1.00      6826\n",
      "   macro avg       1.00      1.00      1.00      6826\n",
      "weighted avg       1.00      1.00      1.00      6826\n",
      "\n"
     ]
    },
    {
     "data": {
      "image/png": "[encoded data removed]",
      "text/plain": [
       "<Figure size 432x288 with 2 Axes>"
      ]
     },
     "metadata": {
      "needs_background": "light"
     },
     "output_type": "display_data"
    }
   ],
   "source": [
    "\n",
    "svm_predict = svc.predict(X_test_tf)\n",
    "\n",
    "print(classification_report(y_test_tf, svm_predict))\n",
    "\n",
    "cm_svm =confusion_matrix(y_test_tf, svm_predict)\n",
    "disp=ConfusionMatrixDisplay(confusion_matrix=cm_svm)\n",
    "disp.plot()\n",
    "plt.show()\n",
    "\n",
    "\n"
   ]
  },
  {
   "cell_type": "code",
   "execution_count": 40,
   "metadata": {},
   "outputs": [
    {
     "name": "stdout",
     "output_type": "stream",
     "text": [
      "Accuracy 0.9964840316437152\n",
      "F1 Score 0.9965065502183407\n",
      "Precision 0.9930374238468234\n",
      "Recall 1.0\n"
     ]
    }
   ],
   "source": [
    "\n",
    "print(\"Accuracy\", accuracy_score(y_test_tf, svm_predict))\n",
    "\n",
    "\n",
    "print(\"F1 Score\", f1_score(y_test_tf, svm_predict))\n",
    "print(\"Precision\", precision_score(y_test_tf, svm_predict))\n",
    "print(\"Recall\", recall_score(y_test_tf, svm_predict))\n",
    "\n",
    "\n",
    "\n"
   ]
  },
  {
   "cell_type": "markdown",
   "metadata": {},
   "source": [
    "## SVM BoW"
   ]
  },
  {
   "cell_type": "code",
   "execution_count": 41,
   "metadata": {},
   "outputs": [
    {
     "data": {
      "text/plain": [
       "SVC(C=2.0, gamma='auto', kernel='linear')"
      ]
     },
     "execution_count": 41,
     "metadata": {},
     "output_type": "execute_result"
    }
   ],
   "source": [
    "svc = SVC(C= 2.0, kernel = 'linear',gamma = 'auto' )\n",
    "\n",
    "svc.fit(X_train_bow, y_train_bow)"
   ]
  },
  {
   "cell_type": "code",
   "execution_count": 42,
   "metadata": {},
   "outputs": [
    {
     "name": "stdout",
     "output_type": "stream",
     "text": [
      "              precision    recall  f1-score   support\n",
      "\n",
      "           0       0.99      0.97      0.98      3403\n",
      "           1       0.97      0.99      0.98      3390\n",
      "\n",
      "    accuracy                           0.98      6793\n",
      "   macro avg       0.98      0.98      0.98      6793\n",
      "weighted avg       0.98      0.98      0.98      6793\n",
      "\n"
     ]
    },
    {
     "data": {
      "image/png": "[encoded data removed]",
      "text/plain": [
       "<Figure size 432x288 with 2 Axes>"
      ]
     },
     "metadata": {
      "needs_background": "light"
     },
     "output_type": "display_data"
    }
   ],
   "source": [
    "\n",
    "svm_predict = svc.predict(X_test_bow)\n",
    "\n",
    "print(classification_report(y_test_bow, svm_predict))\n",
    "\n",
    "cm_svm =confusion_matrix(y_test_bow, svm_predict)\n",
    "disp=ConfusionMatrixDisplay(confusion_matrix=cm_svm)\n",
    "disp.plot()\n",
    "plt.show()\n",
    "\n",
    "\n",
    "\n"
   ]
  },
  {
   "cell_type": "code",
   "execution_count": 43,
   "metadata": {},
   "outputs": [
    {
     "name": "stdout",
     "output_type": "stream",
     "text": [
      "Accuracy 0.9823347563668482\n",
      "F1 Score 0.9824458747805735\n",
      "Precision 0.9744631456761462\n",
      "Recall 0.9905604719764012\n"
     ]
    }
   ],
   "source": [
    "\n",
    "print(\"Accuracy\", accuracy_score(y_test_bow, svm_predict))\n",
    "\n",
    "\n",
    "print(\"F1 Score\", f1_score(y_test_bow, svm_predict))\n",
    "print(\"Precision\", precision_score(y_test_bow, svm_predict))\n",
    "print(\"Recall\", recall_score(y_test_bow, svm_predict))\n",
    "\n",
    "\n",
    "\n",
    "\n"
   ]
  },
  {
   "cell_type": "markdown",
   "metadata": {},
   "source": [
    "## AUC  Curve  of TF-IDF Vectorizer\n"
   ]
  },
  {
   "cell_type": "code",
   "execution_count": 45,
   "metadata": {},
   "outputs": [
    {
     "data": {
      "text/plain": [
       "<matplotlib.legend.Legend at 0x7fccd3ff0e50>"
      ]
     },
     "execution_count": 45,
     "metadata": {},
     "output_type": "execute_result"
    },
    {
     "data": {
      "image/png": "[encoded data removed]",
      "text/plain": [
       "<Figure size 432x288 with 1 Axes>"
      ]
     },
     "metadata": {
      "needs_background": "light"
     },
     "output_type": "display_data"
    }
   ],
   "source": [
    "from sklearn.svm import SVC\n",
    "from sklearn.metrics import plot_roc_curve\n",
    "from sklearn.datasets import make_classification\n",
    "import matplotlib.pyplot as plt\n",
    "import sklearn.metrics as metrics\n",
    "\n",
    "plt.figure(0).clf()\n",
    "plt.title(\"AUC Curve of ADASYN Upsample Data with TF-IDF Vectorizer\")\n",
    "\n",
    "#fit logistic regression model and plot ROC curve\n",
    "lr = LogisticRegression(C= 3,solver= 'liblinear',random_state = 42)\n",
    "lr.fit(X_train_tf, y_train_tf)\n",
    "y_pred_lr = lr.predict_proba(X_test_tf)[:, 1]\n",
    "fpr, tpr, _ = metrics.roc_curve(y_test_tf, y_pred_lr)\n",
    "auc = round(metrics.roc_auc_score(y_test_tf, y_pred_lr), 4)\n",
    "plt.plot(fpr,tpr,label=\"Logistic Regression, AUC=\"+str(auc))\n",
    "\n",
    "#fit gradient boosted model and plot ROC curve\n",
    "svc = SVC(C= 2.0, kernel = 'linear',gamma = 'auto' ,probability=True )\n",
    "svc.fit(X_train_tf, y_train_tf)\n",
    "y_pred_svc = svc.predict_proba(X_test_tf)[:, 1]\n",
    "fpr, tpr, _ = metrics.roc_curve(y_test_tf, y_pred_svc)\n",
    "auc = round(metrics.roc_auc_score(y_test_tf, y_pred_svc), 4)\n",
    "plt.plot(fpr,tpr,label=\"SVC, AUC=\"+str(auc))\n",
    "\n",
    "\n",
    "\n",
    "#fit gradient boosted model and plot ROC curve\n",
    "knn = KNeighborsClassifier(n_neighbors=6,weights = 'uniform')\n",
    "knn.fit(X_train_tf, y_train_tf)\n",
    "y_pred_knn = knn.predict_proba(X_test_tf)[:, 1]\n",
    "fpr, tpr, _ = metrics.roc_curve(y_test_tf, y_pred_knn)\n",
    "auc = round(metrics.roc_auc_score(y_test_tf, y_pred_knn), 4)\n",
    "plt.plot(fpr,tpr,label=\"KNeighborsClassifier, AUC=\"+str(auc))\n",
    "\n",
    "\n",
    "rf = RandomForestClassifier(n_estimators = 300,max_depth = 300, random_state = 2)\n",
    "rf.fit(X_train_tf, y_train_tf)\n",
    "y_pred_rf = rf.predict_proba(X_test_tf)[:, 1]\n",
    "fpr, tpr, _ = metrics.roc_curve(y_test_tf, y_pred_rf)\n",
    "auc = round(metrics.roc_auc_score(y_test_tf, y_pred_rf), 4)\n",
    "plt.plot(fpr,tpr,label=\"Random Forest\"+str(auc))\n",
    "\n",
    "mlp = MLPClassifier(solver='adam', \n",
    "                    activation = 'relu',\n",
    "                   hidden_layer_sizes = (100,50,2), \n",
    "                    random_state=5,\n",
    "                    max_iter = 1000)   \n",
    "mlp.fit(X_train_tf,y_train_tf)\n",
    "y_pred_mlp = mlp.predict_proba(X_test_tf)[:, 1]\n",
    "fpr, tpr, _ = metrics.roc_curve(y_test_tf, y_pred_mlp)\n",
    "auc = round(metrics.roc_auc_score(y_test_tf, y_pred_mlp), 4)\n",
    "plt.plot(fpr,tpr,label=\"mlp\"+str(auc))\n",
    "\n",
    "\n",
    "nb = MultinomialNB()\n",
    "nb.fit(X_train_tf, y_train_tf)\n",
    "y_pred_nb = nb.predict_proba(X_test_tf)[:, 1]\n",
    "fpr, tpr, _ = metrics.roc_curve(y_test_tf, y_pred_nb)\n",
    "auc = round(metrics.roc_auc_score(y_test_tf, y_pred_nb), 4)\n",
    "plt.plot(fpr,tpr,label=\"Naive Bayes\"+str(auc))\n",
    "\n",
    "\n",
    "\n",
    "#add legend\n",
    "plt.legend()\n",
    "\n",
    "\n",
    "\n"
   ]
  },
  {
   "cell_type": "markdown",
   "metadata": {},
   "source": [
    "## AUC of BoW Vectorizer\n"
   ]
  },
  {
   "cell_type": "code",
   "execution_count": 46,
   "metadata": {},
   "outputs": [
    {
     "data": {
      "text/plain": [
       "<matplotlib.legend.Legend at 0x7fcdfe09fb50>"
      ]
     },
     "execution_count": 46,
     "metadata": {},
     "output_type": "execute_result"
    },
    {
     "data": {
      "image/png": "[encoded data removed]",
      "text/plain": [
       "<Figure size 432x288 with 1 Axes>"
      ]
     },
     "metadata": {
      "needs_background": "light"
     },
     "output_type": "display_data"
    }
   ],
   "source": [
    "from sklearn.svm import SVC\n",
    "from sklearn.metrics import plot_roc_curve\n",
    "from sklearn.datasets import make_classification\n",
    "import matplotlib.pyplot as plt\n",
    "import sklearn.metrics as metrics\n",
    "\n",
    "plt.figure(0).clf()\n",
    "\n",
    "plt.title(\"AUC Curve of ADASYN Upsample Data with BoW Vectorizer\")\n",
    "\n",
    "#fit logistic regression model and plot ROC curve\n",
    "lr = LogisticRegression(C= 3,solver= 'liblinear',random_state = 42)\n",
    "lr.fit(X_train_bow, y_train_bow)\n",
    "y_pred_lr = lr.predict_proba(X_test_bow)[:, 1]\n",
    "fpr, tpr, _ = metrics.roc_curve(y_test_bow, y_pred_lr)\n",
    "auc = round(metrics.roc_auc_score(y_test_bow, y_pred_lr), 4)\n",
    "plt.plot(fpr,tpr,label=\"Logistic Regression, AUC=\"+str(auc))\n",
    "\n",
    "#fit gradient boosted model and plot ROC curve\n",
    "svc = SVC(C= 2.0, kernel = 'linear',gamma = 'auto' ,probability=True )\n",
    "svc.fit(X_train_bow, y_train_bow)\n",
    "y_pred_svc = svc.predict_proba(X_test_bow)[:, 1]\n",
    "fpr, tpr, _ = metrics.roc_curve(y_test_bow, y_pred_svc)\n",
    "auc = round(metrics.roc_auc_score(y_test_bow, y_pred_svc), 4)\n",
    "plt.plot(fpr,tpr,label=\"SVC, AUC=\"+str(auc))\n",
    "\n",
    "\n",
    "\n",
    "#fit gradient boosted model and plot ROC curve\n",
    "knn = KNeighborsClassifier(n_neighbors=6,weights = 'uniform')\n",
    "knn.fit(X_train_bow, y_train_bow)\n",
    "y_pred_knn = knn.predict_proba(X_test_bow)[:, 1]\n",
    "fpr, tpr, _ = metrics.roc_curve(y_test_bow, y_pred_knn)\n",
    "auc = round(metrics.roc_auc_score(y_test_bow, y_pred_knn), 4)\n",
    "plt.plot(fpr,tpr,label=\"KNeighborsClassifier, AUC=\"+str(auc))\n",
    "\n",
    "\n",
    "rf = RandomForestClassifier(n_estimators = 300,max_depth = 300, random_state = 2)\n",
    "rf.fit(X_train_bow, y_train_bow)\n",
    "y_pred_rf = rf.predict_proba(X_test_bow)[:, 1]\n",
    "fpr, tpr, _ = metrics.roc_curve(y_test_bow, y_pred_rf)\n",
    "auc = round(metrics.roc_auc_score(y_test_bow, y_pred_rf), 4)\n",
    "plt.plot(fpr,tpr,label=\"Random Forest\"+str(auc))\n",
    "\n",
    "mlp = MLPClassifier(solver='adam', \n",
    "                    activation = 'relu',\n",
    "                   hidden_layer_sizes = (100,50,2), \n",
    "                    random_state=5,\n",
    "                    max_iter = 1000)   \n",
    "mlp.fit(X_train_bow,y_train_bow)\n",
    "y_pred_mlp = mlp.predict_proba(X_test_bow)[:, 1]\n",
    "fpr, tpr, _ = metrics.roc_curve(y_test_bow, y_pred_mlp)\n",
    "auc = round(metrics.roc_auc_score(y_test_bow, y_pred_mlp), 4)\n",
    "plt.plot(fpr,tpr,label=\"mlp\"+str(auc))\n",
    "\n",
    "\n",
    "nb = MultinomialNB()\n",
    "nb.fit(X_train_bow, y_train_bow)\n",
    "y_pred_nb = nb.predict_proba(X_test_bow)[:, 1]\n",
    "fpr, tpr, _ = metrics.roc_curve(y_test_bow, y_pred_nb)\n",
    "auc = round(metrics.roc_auc_score(y_test_bow, y_pred_nb), 4)\n",
    "plt.plot(fpr,tpr,label=\"Naive Bayes\"+str(auc))\n",
    "\n",
    "\n",
    "\n",
    "#add legend\n",
    "plt.legend()\n",
    "\n",
    "\n",
    "\n",
    "\n",
    "\n"
   ]
  },
  {
   "cell_type": "code",
   "execution_count": null,
   "metadata": {},
   "outputs": [],
   "source": []
  }
 ],
 "metadata": {
  "kernelspec": {
   "display_name": "Python 3 (ipykernel)",
   "language": "python",
   "name": "python3"
  },
  "language_info": {
   "codemirror_mode": {
    "name": "ipython",
    "version": 3
   },
   "file_extension": ".py",
   "mimetype": "text/x-python",
   "name": "python",
   "nbconvert_exporter": "python",
   "pygments_lexer": "ipython3",
   "version": "3.7.10"
  }
 },
 "nbformat": 4,
 "nbformat_minor": 4
}
